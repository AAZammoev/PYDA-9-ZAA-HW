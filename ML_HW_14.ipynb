{
 "cells": [
  {
   "cell_type": "markdown",
   "metadata": {},
   "source": [
    "# Дошашнее задание\n",
    "\n",
    "**ПАКЕТ SURPRISE**\n",
    "\n",
    "**используйте данные MovieLens 1M\n",
    "можно использовать любые модели из пакета\n",
    "получите RMSE на тестовом сете 0.87 и ниже\n",
    "Комментарий преподавателя :\n",
    "В ДЗ на датасет 1М может не хватить RAM. Можно сделать на 100K. Качество RMSE предлагаю считать на основе CrossValidation (5 фолдов), а не отложенном датасете.**"
   ]
  },
  {
   "cell_type": "code",
   "execution_count": 50,
   "metadata": {},
   "outputs": [],
   "source": [
    "from surprise import KNNWithMeans, KNNBasic, KNNBaseline\n",
    "from surprise import Dataset\n",
    "from surprise import accuracy\n",
    "from surprise import Reader\n",
    "from surprise.model_selection import train_test_split\n",
    "from surprise.model_selection import cross_validate\n",
    "from surprise.model_selection import PredefinedKFold\n",
    "from surprise.model_selection import KFold\n",
    "from surprise import SVD\n",
    "\n",
    "import pandas as pd"
   ]
  },
  {
   "cell_type": "code",
   "execution_count": 24,
   "metadata": {},
   "outputs": [],
   "source": [
    "links = pd.read_csv('C:/Users/AAZam/Documents/Lern DS of Netology/Курс ML/12_Введение и классификация рекомендательных систем/links.csv')\n",
    "movies = pd.read_csv('C:/Users/AAZam/Documents/Lern DS of Netology/Курс ML/12_Введение и классификация рекомендательных систем/movies.csv')\n",
    "ratings = pd.read_csv('C:/Users/AAZam/Documents/Lern DS of Netology/Курс ML/12_Введение и классификация рекомендательных систем/ratings.csv')\n",
    "tags = pd.read_csv('C:/Users/AAZam/Documents/Lern DS of Netology/Курс ML/12_Введение и классификация рекомендательных систем/tags.csv')"
   ]
  },
  {
   "cell_type": "code",
   "execution_count": 25,
   "metadata": {},
   "outputs": [
    {
     "data": {
      "text/html": [
       "<div>\n",
       "<style scoped>\n",
       "    .dataframe tbody tr th:only-of-type {\n",
       "        vertical-align: middle;\n",
       "    }\n",
       "\n",
       "    .dataframe tbody tr th {\n",
       "        vertical-align: top;\n",
       "    }\n",
       "\n",
       "    .dataframe thead th {\n",
       "        text-align: right;\n",
       "    }\n",
       "</style>\n",
       "<table border=\"1\" class=\"dataframe\">\n",
       "  <thead>\n",
       "    <tr style=\"text-align: right;\">\n",
       "      <th></th>\n",
       "      <th>userId</th>\n",
       "      <th>movieId</th>\n",
       "      <th>rating</th>\n",
       "      <th>timestamp</th>\n",
       "    </tr>\n",
       "  </thead>\n",
       "  <tbody>\n",
       "    <tr>\n",
       "      <th>0</th>\n",
       "      <td>1</td>\n",
       "      <td>1</td>\n",
       "      <td>4.0</td>\n",
       "      <td>964982703</td>\n",
       "    </tr>\n",
       "    <tr>\n",
       "      <th>1</th>\n",
       "      <td>1</td>\n",
       "      <td>3</td>\n",
       "      <td>4.0</td>\n",
       "      <td>964981247</td>\n",
       "    </tr>\n",
       "    <tr>\n",
       "      <th>2</th>\n",
       "      <td>1</td>\n",
       "      <td>6</td>\n",
       "      <td>4.0</td>\n",
       "      <td>964982224</td>\n",
       "    </tr>\n",
       "    <tr>\n",
       "      <th>3</th>\n",
       "      <td>1</td>\n",
       "      <td>47</td>\n",
       "      <td>5.0</td>\n",
       "      <td>964983815</td>\n",
       "    </tr>\n",
       "    <tr>\n",
       "      <th>4</th>\n",
       "      <td>1</td>\n",
       "      <td>50</td>\n",
       "      <td>5.0</td>\n",
       "      <td>964982931</td>\n",
       "    </tr>\n",
       "  </tbody>\n",
       "</table>\n",
       "</div>"
      ],
      "text/plain": [
       "   userId  movieId  rating  timestamp\n",
       "0       1        1     4.0  964982703\n",
       "1       1        3     4.0  964981247\n",
       "2       1        6     4.0  964982224\n",
       "3       1       47     5.0  964983815\n",
       "4       1       50     5.0  964982931"
      ]
     },
     "execution_count": 25,
     "metadata": {},
     "output_type": "execute_result"
    }
   ],
   "source": [
    "ratings.head()"
   ]
  },
  {
   "cell_type": "code",
   "execution_count": 26,
   "metadata": {},
   "outputs": [
    {
     "data": {
      "text/html": [
       "<div>\n",
       "<style scoped>\n",
       "    .dataframe tbody tr th:only-of-type {\n",
       "        vertical-align: middle;\n",
       "    }\n",
       "\n",
       "    .dataframe tbody tr th {\n",
       "        vertical-align: top;\n",
       "    }\n",
       "\n",
       "    .dataframe thead th {\n",
       "        text-align: right;\n",
       "    }\n",
       "</style>\n",
       "<table border=\"1\" class=\"dataframe\">\n",
       "  <thead>\n",
       "    <tr style=\"text-align: right;\">\n",
       "      <th></th>\n",
       "      <th>movieId</th>\n",
       "      <th>title</th>\n",
       "      <th>genres</th>\n",
       "    </tr>\n",
       "  </thead>\n",
       "  <tbody>\n",
       "    <tr>\n",
       "      <th>0</th>\n",
       "      <td>1</td>\n",
       "      <td>Toy Story (1995)</td>\n",
       "      <td>Adventure|Animation|Children|Comedy|Fantasy</td>\n",
       "    </tr>\n",
       "    <tr>\n",
       "      <th>1</th>\n",
       "      <td>2</td>\n",
       "      <td>Jumanji (1995)</td>\n",
       "      <td>Adventure|Children|Fantasy</td>\n",
       "    </tr>\n",
       "    <tr>\n",
       "      <th>2</th>\n",
       "      <td>3</td>\n",
       "      <td>Grumpier Old Men (1995)</td>\n",
       "      <td>Comedy|Romance</td>\n",
       "    </tr>\n",
       "    <tr>\n",
       "      <th>3</th>\n",
       "      <td>4</td>\n",
       "      <td>Waiting to Exhale (1995)</td>\n",
       "      <td>Comedy|Drama|Romance</td>\n",
       "    </tr>\n",
       "    <tr>\n",
       "      <th>4</th>\n",
       "      <td>5</td>\n",
       "      <td>Father of the Bride Part II (1995)</td>\n",
       "      <td>Comedy</td>\n",
       "    </tr>\n",
       "  </tbody>\n",
       "</table>\n",
       "</div>"
      ],
      "text/plain": [
       "   movieId                               title  \\\n",
       "0        1                    Toy Story (1995)   \n",
       "1        2                      Jumanji (1995)   \n",
       "2        3             Grumpier Old Men (1995)   \n",
       "3        4            Waiting to Exhale (1995)   \n",
       "4        5  Father of the Bride Part II (1995)   \n",
       "\n",
       "                                        genres  \n",
       "0  Adventure|Animation|Children|Comedy|Fantasy  \n",
       "1                   Adventure|Children|Fantasy  \n",
       "2                               Comedy|Romance  \n",
       "3                         Comedy|Drama|Romance  \n",
       "4                                       Comedy  "
      ]
     },
     "execution_count": 26,
     "metadata": {},
     "output_type": "execute_result"
    }
   ],
   "source": [
    "movies.head()"
   ]
  },
  {
   "cell_type": "code",
   "execution_count": 27,
   "metadata": {},
   "outputs": [],
   "source": [
    "movies_with_ratings = movies.join(ratings.set_index('movieId'), on='movieId').reset_index(drop=True)\n",
    "movies_with_ratings.dropna(inplace=True)"
   ]
  },
  {
   "cell_type": "code",
   "execution_count": 28,
   "metadata": {},
   "outputs": [
    {
     "data": {
      "text/html": [
       "<div>\n",
       "<style scoped>\n",
       "    .dataframe tbody tr th:only-of-type {\n",
       "        vertical-align: middle;\n",
       "    }\n",
       "\n",
       "    .dataframe tbody tr th {\n",
       "        vertical-align: top;\n",
       "    }\n",
       "\n",
       "    .dataframe thead th {\n",
       "        text-align: right;\n",
       "    }\n",
       "</style>\n",
       "<table border=\"1\" class=\"dataframe\">\n",
       "  <thead>\n",
       "    <tr style=\"text-align: right;\">\n",
       "      <th></th>\n",
       "      <th>movieId</th>\n",
       "      <th>title</th>\n",
       "      <th>genres</th>\n",
       "      <th>userId</th>\n",
       "      <th>rating</th>\n",
       "      <th>timestamp</th>\n",
       "    </tr>\n",
       "  </thead>\n",
       "  <tbody>\n",
       "    <tr>\n",
       "      <th>0</th>\n",
       "      <td>1</td>\n",
       "      <td>Toy Story (1995)</td>\n",
       "      <td>Adventure|Animation|Children|Comedy|Fantasy</td>\n",
       "      <td>1.0</td>\n",
       "      <td>4.0</td>\n",
       "      <td>9.649827e+08</td>\n",
       "    </tr>\n",
       "    <tr>\n",
       "      <th>1</th>\n",
       "      <td>1</td>\n",
       "      <td>Toy Story (1995)</td>\n",
       "      <td>Adventure|Animation|Children|Comedy|Fantasy</td>\n",
       "      <td>5.0</td>\n",
       "      <td>4.0</td>\n",
       "      <td>8.474350e+08</td>\n",
       "    </tr>\n",
       "    <tr>\n",
       "      <th>2</th>\n",
       "      <td>1</td>\n",
       "      <td>Toy Story (1995)</td>\n",
       "      <td>Adventure|Animation|Children|Comedy|Fantasy</td>\n",
       "      <td>7.0</td>\n",
       "      <td>4.5</td>\n",
       "      <td>1.106636e+09</td>\n",
       "    </tr>\n",
       "    <tr>\n",
       "      <th>3</th>\n",
       "      <td>1</td>\n",
       "      <td>Toy Story (1995)</td>\n",
       "      <td>Adventure|Animation|Children|Comedy|Fantasy</td>\n",
       "      <td>15.0</td>\n",
       "      <td>2.5</td>\n",
       "      <td>1.510578e+09</td>\n",
       "    </tr>\n",
       "    <tr>\n",
       "      <th>4</th>\n",
       "      <td>1</td>\n",
       "      <td>Toy Story (1995)</td>\n",
       "      <td>Adventure|Animation|Children|Comedy|Fantasy</td>\n",
       "      <td>17.0</td>\n",
       "      <td>4.5</td>\n",
       "      <td>1.305696e+09</td>\n",
       "    </tr>\n",
       "  </tbody>\n",
       "</table>\n",
       "</div>"
      ],
      "text/plain": [
       "   movieId             title                                       genres  \\\n",
       "0        1  Toy Story (1995)  Adventure|Animation|Children|Comedy|Fantasy   \n",
       "1        1  Toy Story (1995)  Adventure|Animation|Children|Comedy|Fantasy   \n",
       "2        1  Toy Story (1995)  Adventure|Animation|Children|Comedy|Fantasy   \n",
       "3        1  Toy Story (1995)  Adventure|Animation|Children|Comedy|Fantasy   \n",
       "4        1  Toy Story (1995)  Adventure|Animation|Children|Comedy|Fantasy   \n",
       "\n",
       "   userId  rating     timestamp  \n",
       "0     1.0     4.0  9.649827e+08  \n",
       "1     5.0     4.0  8.474350e+08  \n",
       "2     7.0     4.5  1.106636e+09  \n",
       "3    15.0     2.5  1.510578e+09  \n",
       "4    17.0     4.5  1.305696e+09  "
      ]
     },
     "execution_count": 28,
     "metadata": {},
     "output_type": "execute_result"
    }
   ],
   "source": [
    "movies_with_ratings.head()"
   ]
  },
  {
   "cell_type": "code",
   "execution_count": 29,
   "metadata": {},
   "outputs": [
    {
     "data": {
      "text/plain": [
       "array(['Toy Story (1995)', 'Usual Suspects, The (1995)',\n",
       "       'Postman, The (Postino, Il) (1994)', 'Apollo 13 (1995)',\n",
       "       'Die Hard: With a Vengeance (1995)',\n",
       "       'Star Wars: Episode IV - A New Hope (1977)', 'Forrest Gump (1994)',\n",
       "       'True Lies (1994)', 'Hot Shots! Part Deux (1993)',\n",
       "       'Jurassic Park (1993)', 'Ghost (1990)', 'Aladdin (1992)',\n",
       "       'Terminator 2: Judgment Day (1991)', 'Batman (1989)',\n",
       "       'Silence of the Lambs, The (1991)', 'Beauty and the Beast (1991)',\n",
       "       'Mission: Impossible (1996)',\n",
       "       'Dr. Strangelove or: How I Learned to Stop Worrying and Love the Bomb (1964)',\n",
       "       'Independence Day (a.k.a. ID4) (1996)',\n",
       "       'Gone with the Wind (1939)', '2001: A Space Odyssey (1968)',\n",
       "       'Top Gun (1986)', 'English Patient, The (1996)',\n",
       "       'Star Wars: Episode V - The Empire Strikes Back (1980)',\n",
       "       'Apocalypse Now (1979)',\n",
       "       'Star Wars: Episode VI - Return of the Jedi (1983)',\n",
       "       'Psycho (1960)', 'Blues Brothers, The (1980)',\n",
       "       'Terminator, The (1984)', 'Dead Poets Society (1989)',\n",
       "       'Back to the Future (1985)',\n",
       "       'Austin Powers: International Man of Mystery (1997)',\n",
       "       'Contact (1997)', 'Hunt for Red October, The (1990)',\n",
       "       'L.A. Confidential (1997)', 'Truman Show, The (1998)',\n",
       "       'As Good as It Gets (1997)', 'Armageddon (1998)',\n",
       "       \"There's Something About Mary (1998)\", 'Rocky (1976)',\n",
       "       'Seven Samurai (Shichinin no samurai) (1954)',\n",
       "       'Life Is Beautiful (La Vita è bella) (1997)',\n",
       "       'Enemy of the State (1998)', 'Planet of the Apes (1968)',\n",
       "       'Star Wars: Episode I - The Phantom Menace (1999)',\n",
       "       'Superman (1978)', 'Notting Hill (1999)',\n",
       "       'Austin Powers: The Spy Who Shagged Me (1999)',\n",
       "       \"General's Daughter, The (1999)\", 'Wild Wild West (1999)',\n",
       "       'Ghostbusters II (1989)', 'Sixth Sense, The (1999)',\n",
       "       'American Beauty (1999)', 'Toy Story 2 (1999)',\n",
       "       'Mission to Mars (2000)', 'Erin Brockovich (2000)',\n",
       "       'Gladiator (2000)', 'Mission: Impossible II (2000)',\n",
       "       'X-Men (2000)', 'Naked Gun 2 1/2: The Smell of Fear, The (1991)',\n",
       "       'Remember the Titans (2000)', \"Charlie's Angels (2000)\",\n",
       "       'Unbreakable (2000)', 'What Women Want (2000)',\n",
       "       'Enemy at the Gates (2001)', \"Bridget Jones's Diary (2001)\",\n",
       "       'Shrek (2001)', 'Pearl Harbor (2001)',\n",
       "       'A.I. Artificial Intelligence (2001)', 'Planet of the Apes (2001)',\n",
       "       'Princess Diaries, The (2001)', 'Bandits (2001)', 'K-PAX (2001)',\n",
       "       'Monsters, Inc. (2001)',\n",
       "       \"Harry Potter and the Sorcerer's Stone (a.k.a. Harry Potter and the Philosopher's Stone) (2001)\",\n",
       "       \"Ocean's Eleven (2001)\",\n",
       "       'Lord of the Rings: The Fellowship of the Ring, The (2001)',\n",
       "       'Beautiful Mind, A (2001)', 'Ice Age (2002)', 'Spider-Man (2002)',\n",
       "       'Star Wars: Episode II - Attack of the Clones (2002)',\n",
       "       'Minority Report (2002)',\n",
       "       'Men in Black II (a.k.a. MIIB) (a.k.a. MIB 2) (2002)',\n",
       "       'Road to Perdition (2002)', 'Signs (2002)',\n",
       "       'Spirited Away (Sen to Chihiro no kamikakushi) (2001)',\n",
       "       'Harry Potter and the Chamber of Secrets (2002)',\n",
       "       'Lord of the Rings: The Two Towers, The (2002)',\n",
       "       'Catch Me If You Can (2002)', 'Chicago (2002)',\n",
       "       'X2: X-Men United (2003)', 'Matrix Reloaded, The (2003)',\n",
       "       'Hulk (2003)',\n",
       "       'Pirates of the Caribbean: The Curse of the Black Pearl (2003)',\n",
       "       'School of Rock (2003)', 'Matrix Revolutions, The (2003)',\n",
       "       'Last Samurai, The (2003)',\n",
       "       'Lord of the Rings: The Return of the King, The (2003)',\n",
       "       'Calendar Girls (2003)', 'Man on Fire (2004)',\n",
       "       'Day of the Jackal, The (1973)', 'Shrek 2 (2004)',\n",
       "       'Harry Potter and the Prisoner of Azkaban (2004)',\n",
       "       'Stepford Wives, The (2004)',\n",
       "       'Dodgeball: A True Underdog Story (2004)', 'Spider-Man 2 (2004)',\n",
       "       'Bourne Supremacy, The (2004)', 'Catwoman (2004)',\n",
       "       'Village, The (2004)', 'Collateral (2004)',\n",
       "       'Princess Diaries 2: Royal Engagement, The (2004)',\n",
       "       'Sky Captain and the World of Tomorrow (2004)',\n",
       "       'Forgotten, The (2004)', 'Shark Tale (2004)', 'Ladder 49 (2004)',\n",
       "       'Sideways (2004)', 'Saw (2004)', 'Ray (2004)',\n",
       "       'Incredibles, The (2004)', 'Polar Express, The (2004)',\n",
       "       'Finding Neverland (2004)', 'National Treasure (2004)',\n",
       "       \"Ocean's Twelve (2004)\",\n",
       "       'Twilight Samurai, The (Tasogare Seibei) (2002)',\n",
       "       'Aviator, The (2004)', 'Phantom of the Opera, The (2004)',\n",
       "       'Kung Fu Hustle (Gong fu) (2004)', 'Hostage (2005)',\n",
       "       'Robots (2005)', 'Miss Congeniality 2: Armed and Fabulous (2005)',\n",
       "       'Sin City (2005)', 'Kingdom of Heaven (2005)',\n",
       "       'Star Wars: Episode III - Revenge of the Sith (2005)',\n",
       "       'Batman Begins (2005)', 'Bewitched (2005)',\n",
       "       'War of the Worlds (2005)', 'Island, The (2005)', 'Capote (2005)',\n",
       "       'Goal! The Dream Begins (Goal!) (2005)', 'Producers, The (2005)',\n",
       "       'X-Men: The Last Stand (2006)', 'Cars (2006)',\n",
       "       'Lake House, The (2006)', 'Lady in the Water (2006)',\n",
       "       'Superman Returns (2006)', 'Departed, The (2006)',\n",
       "       'Flags of Our Fathers (2006)',\n",
       "       'Perfume: The Story of a Murderer (2006)', 'Casino Royale (2006)',\n",
       "       'Déjà Vu (Deja Vu) (2006)', 'Holiday, The (2006)',\n",
       "       'Dreamgirls (2006)'], dtype=object)"
      ]
     },
     "execution_count": 29,
     "metadata": {},
     "output_type": "execute_result"
    }
   ],
   "source": [
    "movies_with_ratings[movies_with_ratings.userId == 10.0].title.unique().len()"
   ]
  },
  {
   "cell_type": "code",
   "execution_count": 30,
   "metadata": {},
   "outputs": [],
   "source": [
    "dataset = pd.DataFrame({\n",
    "    'uid': movies_with_ratings.userId,\n",
    "    'iid': movies_with_ratings.title,\n",
    "    'rating': movies_with_ratings.rating\n",
    "})"
   ]
  },
  {
   "cell_type": "code",
   "execution_count": 31,
   "metadata": {},
   "outputs": [
    {
     "data": {
      "text/html": [
       "<div>\n",
       "<style scoped>\n",
       "    .dataframe tbody tr th:only-of-type {\n",
       "        vertical-align: middle;\n",
       "    }\n",
       "\n",
       "    .dataframe tbody tr th {\n",
       "        vertical-align: top;\n",
       "    }\n",
       "\n",
       "    .dataframe thead th {\n",
       "        text-align: right;\n",
       "    }\n",
       "</style>\n",
       "<table border=\"1\" class=\"dataframe\">\n",
       "  <thead>\n",
       "    <tr style=\"text-align: right;\">\n",
       "      <th></th>\n",
       "      <th>uid</th>\n",
       "      <th>iid</th>\n",
       "      <th>rating</th>\n",
       "    </tr>\n",
       "  </thead>\n",
       "  <tbody>\n",
       "    <tr>\n",
       "      <th>0</th>\n",
       "      <td>1.0</td>\n",
       "      <td>Toy Story (1995)</td>\n",
       "      <td>4.0</td>\n",
       "    </tr>\n",
       "    <tr>\n",
       "      <th>1</th>\n",
       "      <td>5.0</td>\n",
       "      <td>Toy Story (1995)</td>\n",
       "      <td>4.0</td>\n",
       "    </tr>\n",
       "    <tr>\n",
       "      <th>2</th>\n",
       "      <td>7.0</td>\n",
       "      <td>Toy Story (1995)</td>\n",
       "      <td>4.5</td>\n",
       "    </tr>\n",
       "    <tr>\n",
       "      <th>3</th>\n",
       "      <td>15.0</td>\n",
       "      <td>Toy Story (1995)</td>\n",
       "      <td>2.5</td>\n",
       "    </tr>\n",
       "    <tr>\n",
       "      <th>4</th>\n",
       "      <td>17.0</td>\n",
       "      <td>Toy Story (1995)</td>\n",
       "      <td>4.5</td>\n",
       "    </tr>\n",
       "  </tbody>\n",
       "</table>\n",
       "</div>"
      ],
      "text/plain": [
       "    uid               iid  rating\n",
       "0   1.0  Toy Story (1995)     4.0\n",
       "1   5.0  Toy Story (1995)     4.0\n",
       "2   7.0  Toy Story (1995)     4.5\n",
       "3  15.0  Toy Story (1995)     2.5\n",
       "4  17.0  Toy Story (1995)     4.5"
      ]
     },
     "execution_count": 31,
     "metadata": {},
     "output_type": "execute_result"
    }
   ],
   "source": [
    "dataset.head()"
   ]
  },
  {
   "cell_type": "code",
   "execution_count": 32,
   "metadata": {},
   "outputs": [
    {
     "data": {
      "text/plain": [
       "0.5"
      ]
     },
     "execution_count": 32,
     "metadata": {},
     "output_type": "execute_result"
    }
   ],
   "source": [
    "ratings.rating.min()"
   ]
  },
  {
   "cell_type": "code",
   "execution_count": 33,
   "metadata": {},
   "outputs": [
    {
     "data": {
      "text/plain": [
       "5.0"
      ]
     },
     "execution_count": 33,
     "metadata": {},
     "output_type": "execute_result"
    }
   ],
   "source": [
    "ratings.rating.max()"
   ]
  },
  {
   "cell_type": "code",
   "execution_count": 34,
   "metadata": {},
   "outputs": [],
   "source": [
    "reader = Reader(rating_scale=(0.5, 5.0))\n",
    "data = Dataset.load_from_df(dataset, reader)"
   ]
  },
  {
   "cell_type": "code",
   "execution_count": 35,
   "metadata": {},
   "outputs": [
    {
     "data": {
      "text/plain": [
       "<surprise.dataset.DatasetAutoFolds at 0x1ce3ff70a88>"
      ]
     },
     "execution_count": 35,
     "metadata": {},
     "output_type": "execute_result"
    }
   ],
   "source": [
    "data"
   ]
  },
  {
   "cell_type": "code",
   "execution_count": 36,
   "metadata": {},
   "outputs": [],
   "source": [
    "algo = KNNWithMeans(k=50, sim_options={'name': 'pearson_baseline', 'user_based': True})"
   ]
  },
  {
   "cell_type": "code",
   "execution_count": 37,
   "metadata": {},
   "outputs": [
    {
     "name": "stdout",
     "output_type": "stream",
     "text": [
      "Estimating biases using als...\n",
      "Computing the pearson_baseline similarity matrix...\n",
      "Done computing similarity matrix.\n",
      "Estimating biases using als...\n",
      "Computing the pearson_baseline similarity matrix...\n",
      "Done computing similarity matrix.\n",
      "Estimating biases using als...\n",
      "Computing the pearson_baseline similarity matrix...\n",
      "Done computing similarity matrix.\n",
      "Estimating biases using als...\n",
      "Computing the pearson_baseline similarity matrix...\n",
      "Done computing similarity matrix.\n",
      "Estimating biases using als...\n",
      "Computing the pearson_baseline similarity matrix...\n",
      "Done computing similarity matrix.\n",
      "Evaluating RMSE of algorithm KNNWithMeans on 5 split(s).\n",
      "\n",
      "                  Fold 1  Fold 2  Fold 3  Fold 4  Fold 5  Mean    Std     \n",
      "RMSE (testset)    0.8916  0.8991  0.9011  0.9009  0.8888  0.8963  0.0051  \n",
      "Fit time          1.00    1.09    1.10    0.93    0.92    1.01    0.08    \n",
      "Test time         1.53    1.50    1.55    1.33    1.43    1.47    0.08    \n"
     ]
    },
    {
     "data": {
      "text/plain": [
       "{'test_rmse': array([0.89158376, 0.89912292, 0.90108626, 0.90092406, 0.88884826]),\n",
       " 'fit_time': (0.9989116191864014,\n",
       "  1.0946860313415527,\n",
       "  1.0988407135009766,\n",
       "  0.9252760410308838,\n",
       "  0.9180057048797607),\n",
       " 'test_time': (1.5278708934783936,\n",
       "  1.5048418045043945,\n",
       "  1.54518723487854,\n",
       "  1.3258731365203857,\n",
       "  1.4257898330688477)}"
      ]
     },
     "execution_count": 37,
     "metadata": {},
     "output_type": "execute_result"
    }
   ],
   "source": [
    "# Запустим 5-fold кросс-валидацию и выведем результаты\n",
    "cross_validate(algo, data, measures=['RMSE'], cv=5, verbose=True)"
   ]
  },
  {
   "cell_type": "code",
   "execution_count": null,
   "metadata": {},
   "outputs": [],
   "source": [
    "algo = KNNWithMeans(k=50, sim_options={'name': 'pearson_baseline', 'user_based': True})"
   ]
  },
  {
   "cell_type": "markdown",
   "metadata": {},
   "source": [
    "## Попробуем еще один вариант кросс-валидации"
   ]
  },
  {
   "cell_type": "code",
   "execution_count": 43,
   "metadata": {},
   "outputs": [
    {
     "name": "stdout",
     "output_type": "stream",
     "text": [
      "RMSE: 0.8819\n",
      "RMSE: 0.8767\n",
      "RMSE: 0.8696\n",
      "RMSE: 0.8724\n",
      "RMSE: 0.8727\n"
     ]
    }
   ],
   "source": [
    "# define a cross-validation iterator\n",
    "kf = KFold(n_splits=5)\n",
    "\n",
    "algo = SVD()\n",
    "\n",
    "for trainset, testset in kf.split(data):\n",
    "\n",
    "    # train and test algorithm.\n",
    "    algo.fit(trainset)\n",
    "    predictions = algo.test(testset)\n",
    "\n",
    "    # Compute and print Root Mean Squared Error\n",
    "    accuracy.rmse(predictions, verbose=True)"
   ]
  },
  {
   "cell_type": "code",
   "execution_count": 46,
   "metadata": {},
   "outputs": [
    {
     "name": "stdout",
     "output_type": "stream",
     "text": [
      "Estimating biases using als...\n",
      "Computing the pearson_baseline similarity matrix...\n",
      "Done computing similarity matrix.\n",
      "RMSE: 0.8815\n",
      "Estimating biases using als...\n",
      "Computing the pearson_baseline similarity matrix...\n",
      "Done computing similarity matrix.\n",
      "RMSE: 0.8728\n",
      "Estimating biases using als...\n",
      "Computing the pearson_baseline similarity matrix...\n",
      "Done computing similarity matrix.\n",
      "RMSE: 0.8854\n",
      "Estimating biases using als...\n",
      "Computing the pearson_baseline similarity matrix...\n",
      "Done computing similarity matrix.\n",
      "RMSE: 0.8830\n",
      "Estimating biases using als...\n",
      "Computing the pearson_baseline similarity matrix...\n",
      "Done computing similarity matrix.\n",
      "RMSE: 0.8850\n"
     ]
    }
   ],
   "source": [
    "# define a cross-validation iterator\n",
    "kf = KFold(n_splits=5)\n",
    "\n",
    "algo = KNNWithMeans(k=50, sim_options={'name': 'pearson_baseline', 'user_based': False})\n",
    "\n",
    "for trainset, testset in kf.split(data):\n",
    "\n",
    "    # train and test algorithm.\n",
    "    algo.fit(trainset)\n",
    "    predictions = algo.test(testset)\n",
    "\n",
    "    # Compute and print Root Mean Squared Error\n",
    "    accuracy.rmse(predictions, verbose=True)"
   ]
  },
  {
   "cell_type": "code",
   "execution_count": 47,
   "metadata": {},
   "outputs": [
    {
     "name": "stdout",
     "output_type": "stream",
     "text": [
      "Computing the cosine similarity matrix...\n",
      "Done computing similarity matrix.\n",
      "RMSE: 0.8997\n",
      "Computing the cosine similarity matrix...\n",
      "Done computing similarity matrix.\n",
      "RMSE: 0.9000\n",
      "Computing the cosine similarity matrix...\n",
      "Done computing similarity matrix.\n",
      "RMSE: 0.9055\n",
      "Computing the cosine similarity matrix...\n",
      "Done computing similarity matrix.\n",
      "RMSE: 0.9038\n",
      "Computing the cosine similarity matrix...\n",
      "Done computing similarity matrix.\n",
      "RMSE: 0.9050\n"
     ]
    }
   ],
   "source": [
    "# define a cross-validation iterator\n",
    "kf = KFold(n_splits=5)\n",
    "\n",
    "algo = KNNWithMeans(k=50, sim_options={'name': 'cosine', 'user_based': False})\n",
    "\n",
    "for trainset, testset in kf.split(data):\n",
    "\n",
    "    # train and test algorithm.\n",
    "    algo.fit(trainset)\n",
    "    predictions = algo.test(testset)\n",
    "\n",
    "    # Compute and print Root Mean Squared Error\n",
    "    accuracy.rmse(predictions, verbose=True)"
   ]
  },
  {
   "cell_type": "code",
   "execution_count": 77,
   "metadata": {},
   "outputs": [
    {
     "name": "stdout",
     "output_type": "stream",
     "text": [
      "Estimating biases using als...\n",
      "Computing the pearson_baseline similarity matrix...\n",
      "Done computing similarity matrix.\n",
      "Среднеквадратичная погрешность 1-го измерения равна 0.85\n",
      "Estimating biases using als...\n",
      "Computing the pearson_baseline similarity matrix...\n",
      "Done computing similarity matrix.\n",
      "Среднеквадратичная погрешность 2-го измерения равна 0.86\n",
      "Estimating biases using als...\n",
      "Computing the pearson_baseline similarity matrix...\n",
      "Done computing similarity matrix.\n",
      "Среднеквадратичная погрешность 3-го измерения равна 0.85\n",
      "Estimating biases using als...\n",
      "Computing the pearson_baseline similarity matrix...\n",
      "Done computing similarity matrix.\n",
      "Среднеквадратичная погрешность 4-го измерения равна 0.85\n",
      "Estimating biases using als...\n",
      "Computing the pearson_baseline similarity matrix...\n",
      "Done computing similarity matrix.\n",
      "Среднеквадратичная погрешность 5-го измерения равна 0.85\n",
      "Среднеквадратичная погрешность в среднем равна 0.85 \n"
     ]
    }
   ],
   "source": [
    "from statistics import mean\n",
    "\n",
    "# define a cross-validation iterator\n",
    "kf = KFold(n_splits=5)\n",
    "\n",
    "algo = KNNBaseline(k=30, sim_options={'name': 'pearson_baseline', 'user_based': False})\n",
    "\n",
    "accuracy_n = []\n",
    "n = 0\n",
    "for trainset, testset in kf.split(data):\n",
    "\n",
    "    # train and test algorithm.\n",
    "    algo.fit(trainset)\n",
    "    predictions = algo.test(testset, verbose=False)\n",
    "    n += 1\n",
    "    # Compute and print Root Mean Squared Error\n",
    "    accuracy_n.append(accuracy.rmse(predictions, verbose=False))\n",
    "#     print(accuracy_n)\n",
    "#     break\n",
    "    print(f'Среднеквадратичная погрешность {n}-го измерения равна {round(accuracy.rmse(predictions, verbose=False),2)}')\n",
    "print(f'Среднеквадратичная погрешность в среднем равна {round(mean(accuracy_n), 2)} \\r')"
   ]
  },
  {
   "cell_type": "code",
   "execution_count": 69,
   "metadata": {},
   "outputs": [
    {
     "name": "stdout",
     "output_type": "stream",
     "text": [
      "Estimating biases using als...\n",
      "Computing the pearson_baseline similarity matrix...\n",
      "Done computing similarity matrix.\n",
      "Estimating biases using als...\n",
      "Computing the pearson_baseline similarity matrix...\n",
      "Done computing similarity matrix.\n",
      "Estimating biases using als...\n",
      "Computing the pearson_baseline similarity matrix...\n",
      "Done computing similarity matrix.\n",
      "Estimating biases using als...\n",
      "Computing the pearson_baseline similarity matrix...\n",
      "Done computing similarity matrix.\n",
      "Estimating biases using als...\n",
      "Computing the pearson_baseline similarity matrix...\n",
      "Done computing similarity matrix.\n",
      "Evaluating RMSE of algorithm KNNBaseline on 5 split(s).\n",
      "\n",
      "                  Fold 1  Fold 2  Fold 3  Fold 4  Fold 5  Mean    Std     \n",
      "RMSE (testset)    0.8475  0.8532  0.8518  0.8553  0.8614  0.8538  0.0045  \n",
      "Fit time          14.97   14.82   13.98   13.89   14.87   14.51   0.47    \n",
      "Test time         31.60   24.06   8.24    22.77   22.74   21.88   7.57    \n"
     ]
    },
    {
     "data": {
      "text/plain": [
       "{'test_rmse': array([0.84749798, 0.85317435, 0.85183376, 0.85532488, 0.86136418]),\n",
       " 'fit_time': (14.96857213973999,\n",
       "  14.823780298233032,\n",
       "  13.979823112487793,\n",
       "  13.890343427658081,\n",
       "  14.870306253433228),\n",
       " 'test_time': (31.59602999687195,\n",
       "  24.06184411048889,\n",
       "  8.236443519592285,\n",
       "  22.77282476425171,\n",
       "  22.73795986175537)}"
      ]
     },
     "execution_count": 69,
     "metadata": {},
     "output_type": "execute_result"
    }
   ],
   "source": [
    "algo_1 = KNNBaseline(k=30, sim_options={'name': 'pearson_baseline', 'user_based': False})\n",
    "cross_validate(algo_1, data, measures=['RMSE'], cv=5, verbose=True)"
   ]
  },
  {
   "cell_type": "markdown",
   "metadata": {},
   "source": [
    "### Добились поставленной задачи - RMSE на тестовом сете ниже 0.87"
   ]
  },
  {
   "cell_type": "code",
   "execution_count": null,
   "metadata": {},
   "outputs": [],
   "source": []
  }
 ],
 "metadata": {
  "kernelspec": {
   "display_name": "Python 3",
   "language": "python",
   "name": "python3"
  },
  "language_info": {
   "codemirror_mode": {
    "name": "ipython",
    "version": 3
   },
   "file_extension": ".py",
   "mimetype": "text/x-python",
   "name": "python",
   "nbconvert_exporter": "python",
   "pygments_lexer": "ipython3",
   "version": "3.7.4"
  }
 },
 "nbformat": 4,
 "nbformat_minor": 4
}
