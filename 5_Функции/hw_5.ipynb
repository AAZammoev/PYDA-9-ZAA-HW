{
 "cells": [
  {
   "cell_type": "markdown",
   "metadata": {},
   "source": [
    "Вы работаете секретарем и вам постоянно приходят различные документы. Вы должны быть очень внимательны, чтобы не потерять ни один документ. Каталог документов хранится в следующем виде:"
   ]
  },
  {
   "cell_type": "code",
   "execution_count": 1,
   "metadata": {},
   "outputs": [],
   "source": [
    "documents = [\n",
    "    {'type': 'passport', 'number': '2207 876234', 'name': 'Василий Гупкин'},\n",
    "    {'type': 'invoice', 'number': '11-2', 'name': 'Геннадий Покемонов'},\n",
    "    {'type': 'insurance', 'number': '10006', 'name': 'Аристарх Павлов'}\n",
    "]"
   ]
  },
  {
   "cell_type": "markdown",
   "metadata": {},
   "source": [
    "Перечень полок, на которых находятся документы хранится в следующем виде:"
   ]
  },
  {
   "cell_type": "code",
   "execution_count": 2,
   "metadata": {},
   "outputs": [],
   "source": [
    "directories = {\n",
    "    '1': ['2207 876234', '11-2'],\n",
    "    '2': ['10006'],\n",
    "    '3': []\n",
    "}"
   ]
  },
  {
   "cell_type": "code",
   "execution_count": 3,
   "metadata": {},
   "outputs": [],
   "source": [
    "def get_people(documents):\n",
    "    doc_num = input('Введите номер документа ')\n",
    "    doc_false = 0\n",
    "    for doc in documents:\n",
    "        if doc['number'] == doc_num:\n",
    "            print(doc['name'])\n",
    "            doc_false += 1\n",
    "    if doc_false == 0:\n",
    "        print('Документ с таким номером не найден')"
   ]
  },
  {
   "cell_type": "code",
   "execution_count": 4,
   "metadata": {},
   "outputs": [
    {
     "name": "stdout",
     "output_type": "stream",
     "text": [
      "Введите номер документа 10006\n",
      "Аристарх Павлов\n"
     ]
    }
   ],
   "source": [
    "get_people(documents)"
   ]
  },
  {
   "cell_type": "code",
   "execution_count": 5,
   "metadata": {},
   "outputs": [],
   "source": [
    "def get_shelf(directories):\n",
    "    doc_num = input('Введите номер документа ')\n",
    "    doc_false = 0\n",
    "    for shelf, list_docs in directories.items():\n",
    "        if doc_num in list_docs:\n",
    "            print('Полка № ' + shelf)\n",
    "            doc_false += 1\n",
    "    if doc_false == 0:\n",
    "        print('Документ с таким номером не найден')"
   ]
  },
  {
   "cell_type": "code",
   "execution_count": 6,
   "metadata": {},
   "outputs": [
    {
     "name": "stdout",
     "output_type": "stream",
     "text": [
      "Введите номер документа 10006\n",
      "Полка № 2\n"
     ]
    }
   ],
   "source": [
    "get_shelf(directories)"
   ]
  },
  {
   "cell_type": "code",
   "execution_count": 7,
   "metadata": {},
   "outputs": [],
   "source": [
    "def get_list_docs(documents):\n",
    "    for doc in documents:\n",
    "        print('\\033[1m', f\"{doc['type']} {chr(0x22)}{doc['number']}{chr(0x22)} {chr(0x22)}{doc['name']}{chr(0x22)}\", '\\033[0m')"
   ]
  },
  {
   "cell_type": "code",
   "execution_count": 8,
   "metadata": {},
   "outputs": [
    {
     "name": "stdout",
     "output_type": "stream",
     "text": [
      "\u001b[1m passport \"2207 876234\" \"Василий Гупкин\" \u001b[0m\n",
      "\u001b[1m invoice \"11-2\" \"Геннадий Покемонов\" \u001b[0m\n",
      "\u001b[1m insurance \"10006\" \"Аристарх Павлов\" \u001b[0m\n"
     ]
    }
   ],
   "source": [
    "get_list_docs(documents)"
   ]
  },
  {
   "cell_type": "code",
   "execution_count": 9,
   "metadata": {},
   "outputs": [],
   "source": [
    "def get_add_shelf(directories):\n",
    "    shelf_num = input('Введите номер новой полки ')\n",
    "    num_false = 0\n",
    "    for shelf in directories:\n",
    "        if shelf_num == shelf:\n",
    "            print('Полка с таким номером уже существует')\n",
    "            num_false += 1\n",
    "    if num_false == 0:\n",
    "        directories[shelf_num] = []\n",
    "        print('Создана полка № ', shelf_num)"
   ]
  },
  {
   "cell_type": "code",
   "execution_count": 10,
   "metadata": {},
   "outputs": [],
   "source": [
    "# решил без цикла\n",
    "def get_add_shelf(directories):\n",
    "    shelf_num = input('Введите номер новой полки ')\n",
    "    if shelf_num in list(directories.keys()):\n",
    "        print('Полка с таким номером уже существует')\n",
    "    else:\n",
    "        directories[shelf_num] = []\n",
    "        print('Создана полка № ', shelf_num)"
   ]
  },
  {
   "cell_type": "code",
   "execution_count": 11,
   "metadata": {},
   "outputs": [
    {
     "name": "stdout",
     "output_type": "stream",
     "text": [
      "Введите номер новой полки 4\n",
      "Создана полка №  4\n"
     ]
    }
   ],
   "source": [
    "get_add_shelf(directories)"
   ]
  },
  {
   "cell_type": "code",
   "execution_count": 12,
   "metadata": {},
   "outputs": [],
   "source": [
    "def get_delete_doc(documents, directories):\n",
    "    doc_num = input('Введите номер документа ')\n",
    "    doc_false = 0\n",
    "    for i, doc in enumerate(documents):\n",
    "        if doc['number'] == doc_num:\n",
    "            del(documents[i])\n",
    "            doc_false += 1\n",
    "    for shelf, list_docs in directories.items():\n",
    "        if doc_num in list_docs:\n",
    "            list_docs.remove(doc_num)\n",
    "    if doc_false == 0:\n",
    "        print('Документ с таким номером не найден')\n",
    "    else:\n",
    "        print('Документ удалён')"
   ]
  },
  {
   "cell_type": "code",
   "execution_count": 13,
   "metadata": {},
   "outputs": [
    {
     "name": "stdout",
     "output_type": "stream",
     "text": [
      "Введите номер документа 10006\n",
      "Документ удалён\n"
     ]
    }
   ],
   "source": [
    "get_delete_doc(documents, directories)"
   ]
  },
  {
   "cell_type": "code",
   "execution_count": 14,
   "metadata": {},
   "outputs": [],
   "source": [
    "def get_move_doc(directories):\n",
    "    doc_num = input('Введите номер документа ')\n",
    "    shelf_num = input('Введите номер новой полки ')\n",
    "    doc_false = 0\n",
    "    if shelf_num not in list(directories.keys()):\n",
    "        print('Полка с таким номером не существует')\n",
    "    else:\n",
    "        for shelf, list_docs in directories.items():\n",
    "            if doc_num in list_docs:\n",
    "                list_docs.remove(doc_num)\n",
    "                shelf_old_num = shelf\n",
    "                doc_false += 1                   \n",
    "        if doc_false == 0:\n",
    "            print('Документ с таким номером не найден')\n",
    "        else:\n",
    "            directories[shelf_num] += [doc_num]  \n",
    "            print(f'Документ перемещён с полки № {shelf_old_num} на полку № {shelf_num}')"
   ]
  },
  {
   "cell_type": "code",
   "execution_count": 15,
   "metadata": {},
   "outputs": [
    {
     "name": "stdout",
     "output_type": "stream",
     "text": [
      "Введите номер документа 11-2\n",
      "Введите номер новой полки 4\n",
      "Документ перемещён с полки № 1 на полку № 4\n"
     ]
    }
   ],
   "source": [
    "get_move_doc(directories)"
   ]
  },
  {
   "cell_type": "code",
   "execution_count": 16,
   "metadata": {},
   "outputs": [],
   "source": [
    "def get_add_doc(documents, directories):\n",
    "    shelf_num = input('Введите номер полки ')\n",
    "    if shelf_num not in list(directories.keys()):\n",
    "        print('Полка с таким номером не существует')\n",
    "    else:    \n",
    "        type_doc = input('Введите тип документа ')\n",
    "        doc_num = input('Введите номер документа ')\n",
    "        name = (input('Введите Имя и Фамилию владельца документа ')).title()\n",
    "        documents.append({'type': type_doc, 'number': doc_num, 'name': name})\n",
    "        directories[shelf_num] += [doc_num] \n",
    "        print(f'Документ добавлен и помещен на полку № {shelf_num}')"
   ]
  },
  {
   "cell_type": "code",
   "execution_count": 17,
   "metadata": {},
   "outputs": [
    {
     "name": "stdout",
     "output_type": "stream",
     "text": [
      "Введите номер полки 3\n",
      "Введите тип документа Паспорт\n",
      "Введите номер документа 4585 565656\n",
      "Введите Имя и Фамилию владельца документа Леонид Утесов\n",
      "Документ добавлен и помещен на полку № 3\n"
     ]
    }
   ],
   "source": [
    "get_add_doc(documents, directories)"
   ]
  },
  {
   "cell_type": "markdown",
   "metadata": {},
   "source": [
    "Необходимо реализовать пользовательские команды (внимание! это не название функций, которые должны быть выразительными, а команды, которые вводит пользователь, чтобы получить необходимый результат):\n",
    "  \n",
    "- p – people – команда, которая спросит номер документа и выведет имя человека, которому он принадлежит;  \n",
    "- s – shelf – команда, которая спросит номер документа и выведет номер полки, на которой он находится  \n",
    "*Правильно обработайте ситуации, когда пользователь будет вводить несуществующий документ*.\n",
    "- l – list – команда, которая выведет список всех документов в формате   \n",
    "**passport \"2207 876234\" \"Василий Гупкин\"**  \n",
    "- as – add shelf – команда, которая спросит номер новой полки и добавит ее в перечень. *Предусмотрите случай, когда пользователь добавляет полку, которая уже существует*.\n",
    "- d – delete – команда, которая спросит номер документа и удалит его из каталога и из перечня полок. *Предусмотрите сценарий, когда пользователь вводит несуществующий документ*;  \n",
    "- m – move – команда, которая спросит номер документа и целевую полку и переместит его с текущей полки на целевую. *Корректно обработайте кейсы, когда пользователь пытается переместить несуществующий документ или переместить документ на несуществующую полку*;  \n",
    "- a – add – команда, которая добавит новый документ в каталог и в перечень полок, спросив его номер, тип, имя владельца и номер полки, на котором он будет храниться. *Корректно обработайте ситуацию, когда пользователь будет пытаться добавить документ на несуществующую полку*."
   ]
  },
  {
   "cell_type": "code",
   "execution_count": 19,
   "metadata": {},
   "outputs": [],
   "source": [
    "def main():\n",
    "    while True:\n",
    "        user_input = input('p – найти владельца документа; s – вывод номера полки, на которой находится документ; l – Список всех документов; as – добавление новой полки; d – удаление документа; m – перемещение документа; a – добавление документа; q – выход.')\n",
    "        if user_input == 'p':\n",
    "            get_people(documents)\n",
    "        elif user_input == 's':\n",
    "            get_shelf(directories)\n",
    "        elif user_input == 'l':\n",
    "            get_list_docs(documents)\n",
    "        elif user_input == 'as':\n",
    "            get_add_shelf(directories)\n",
    "        elif user_input == 'd':\n",
    "            get_delete_doc(documents, directories)\n",
    "        elif user_input == 'm':\n",
    "            get_move_doc(directories)\n",
    "        elif user_input == 'a':\n",
    "            get_add_doc(documents, directories)\n",
    "        elif user_input == 'q':\n",
    "            print('До следующей встречи!')\n",
    "            break"
   ]
  },
  {
   "cell_type": "code",
   "execution_count": 20,
   "metadata": {},
   "outputs": [
    {
     "name": "stdout",
     "output_type": "stream",
     "text": [
      "p – найти владельца документа; s – вывод номера полки, на которой находится документ; l – Список всех документов; as – добавление новой полки; d – удаление документа; m – перемещение документа; a – добавление документа; q – выход.p\n",
      "Введите номер документа 11-2\n",
      "Геннадий Покемонов\n",
      "p – найти владельца документа; s – вывод номера полки, на которой находится документ; l – Список всех документов; as – добавление новой полки; d – удаление документа; m – перемещение документа; a – добавление документа; q – выход.s\n",
      "Введите номер документа 11-2\n",
      "Полка № 4\n",
      "p – найти владельца документа; s – вывод номера полки, на которой находится документ; l – Список всех документов; as – добавление новой полки; d – удаление документа; m – перемещение документа; a – добавление документа; q – выход.l\n",
      "\u001b[1m passport \"2207 876234\" \"Василий Гупкин\" \u001b[0m\n",
      "\u001b[1m invoice \"11-2\" \"Геннадий Покемонов\" \u001b[0m\n",
      "\u001b[1m Паспорт \"4585 565656\" \"Леонид Утесов\" \u001b[0m\n",
      "p – найти владельца документа; s – вывод номера полки, на которой находится документ; l – Список всех документов; as – добавление новой полки; d – удаление документа; m – перемещение документа; a – добавление документа; q – выход.as\n",
      "Введите номер новой полки 4\n",
      "Полка с таким номером уже существует\n",
      "p – найти владельца документа; s – вывод номера полки, на которой находится документ; l – Список всех документов; as – добавление новой полки; d – удаление документа; m – перемещение документа; a – добавление документа; q – выход.as\n",
      "Введите номер новой полки 5\n",
      "Создана полка №  5\n",
      "p – найти владельца документа; s – вывод номера полки, на которой находится документ; l – Список всех документов; as – добавление новой полки; d – удаление документа; m – перемещение документа; a – добавление документа; q – выход.d\n",
      "Введите номер документа 11-3\n",
      "Документ с таким номером не найден\n",
      "p – найти владельца документа; s – вывод номера полки, на которой находится документ; l – Список всех документов; as – добавление новой полки; d – удаление документа; m – перемещение документа; a – добавление документа; q – выход.d\n",
      "Введите номер документа 11-2\n",
      "Документ удалён\n",
      "p – найти владельца документа; s – вывод номера полки, на которой находится документ; l – Список всех документов; as – добавление новой полки; d – удаление документа; m – перемещение документа; a – добавление документа; q – выход.m\n",
      "Введите номер документа 4585 565656\n",
      "Введите номер новой полки 1\n",
      "Документ перемещён с полки № 3 на полку № 1\n",
      "p – найти владельца документа; s – вывод номера полки, на которой находится документ; l – Список всех документов; as – добавление новой полки; d – удаление документа; m – перемещение документа; a – добавление документа; q – выход.a\n",
      "Введите номер полки 4\n",
      "Введите тип документа Свидетельство о рождении\n",
      "Введите номер документа 45545454\n",
      "Введите Имя и Фамилию владельца документа Иван Грозный\n",
      "Документ добавлен и помещен на полку № 4\n",
      "p – найти владельца документа; s – вывод номера полки, на которой находится документ; l – Список всех документов; as – добавление новой полки; d – удаление документа; m – перемещение документа; a – добавление документа; q – выход.q\n",
      "До следующей встречи!\n"
     ]
    }
   ],
   "source": [
    "main()"
   ]
  },
  {
   "cell_type": "code",
   "execution_count": null,
   "metadata": {},
   "outputs": [],
   "source": []
  }
 ],
 "metadata": {
  "kernelspec": {
   "display_name": "Python 3",
   "language": "python",
   "name": "python3"
  },
  "language_info": {
   "codemirror_mode": {
    "name": "ipython",
    "version": 3
   },
   "file_extension": ".py",
   "mimetype": "text/x-python",
   "name": "python",
   "nbconvert_exporter": "python",
   "pygments_lexer": "ipython3",
   "version": "3.7.4"
  }
 },
 "nbformat": 4,
 "nbformat_minor": 2
}
