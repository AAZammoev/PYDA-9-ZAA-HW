{
 "cells": [
  {
   "cell_type": "markdown",
   "metadata": {},
   "source": [
    "**Задание 1.**\n",
    "Напишите функцию, которая принимает на вход строку и проверяет является ли она валидным транспортным номером. Если да, то функция должна возвращать отдельно номер и регион."
   ]
  },
  {
   "cell_type": "code",
   "execution_count": 1,
   "metadata": {},
   "outputs": [],
   "source": [
    "import re"
   ]
  },
  {
   "cell_type": "code",
   "execution_count": 2,
   "metadata": {},
   "outputs": [
    {
     "data": {
      "text/plain": [
       "<re.Match object; span=(0, 9), match='А257ВА154'>"
      ]
     },
     "execution_count": 2,
     "metadata": {},
     "output_type": "execute_result"
    }
   ],
   "source": [
    "car_number = 'а257ва154, а589ну254, в745ов22, В689АС99, в236дж333, '\n",
    "find_car_number = r'([АВЕКМНОРСТУХ]\\d{3}(?<!000)[АВЕКМНОРСТУХ]{2})([17]\\d{2,3})'\n",
    "re.search(find_car_number, car_number.upper())"
   ]
  },
  {
   "cell_type": "code",
   "execution_count": 3,
   "metadata": {},
   "outputs": [
    {
     "data": {
      "text/plain": [
       "[('А257ВА', '154'), ('В745ОВ', '22'), ('В689АС', '99')]"
      ]
     },
     "execution_count": 3,
     "metadata": {},
     "output_type": "execute_result"
    }
   ],
   "source": [
    "car_number = 'а257ва154, а589ну254, в745Ов22, В689АС99, в236дж333, в256см3335'\n",
    "find_car_number = r'([АВЕКМНОРСТУХ]\\d{3}(?<!000)[АВЕКМНОРСТУХ]{2})([17]\\d{2}\\b|\\d{2}\\b)'\n",
    "re.findall(find_car_number, car_number.upper())"
   ]
  },
  {
   "cell_type": "code",
   "execution_count": 4,
   "metadata": {},
   "outputs": [],
   "source": [
    "# Решение:\n",
    "def check_car_number():\n",
    "    find_car_number = r'([АВЕКМНОРСТУХ]\\d{3}(?<!000)[АВЕКМНОРСТУХ]{2})([17]\\d{2}\\b|\\d{2}\\b)'\n",
    "    car_number = input('Введите автомобильный номер: ')\n",
    "    car_number = re.match(find_car_number, car_number.upper())\n",
    "    if car_number:\n",
    "        print(f'Номер - {car_number.group(1)}, регион - {car_number.group(2)}')\n",
    "    else:\n",
    "        print('Неправильные номер')"
   ]
  },
  {
   "cell_type": "code",
   "execution_count": 18,
   "metadata": {},
   "outputs": [
    {
     "name": "stdout",
     "output_type": "stream",
     "text": [
      "Введите автомобильный номер: р287от799\n",
      "Номер - Р287ОТ, регион - 799\n"
     ]
    }
   ],
   "source": [
    "check_car_number()"
   ]
  },
  {
   "cell_type": "markdown",
   "metadata": {},
   "source": [
    "**Задание 2.**\n",
    "Постарайтесь написать (в крайнем случае найти) самый полный шаблон для проверки e-mail адресов через регулярное выражение, которая проверяет e-mail адрес на валидность. Можно руководствоваться следующими минимальными требованиями:\n",
    "• адрес должен содержать специальный символ “@”, который отделяет имя пользователя почтовой системы от доменного имени;\n",
    "• адрес не должен содержать следующие символы: “пробел”, “,”, “:”, “;”, “!”, “#”, “%”, “*”, “(”, “)”, “=”, “+”, “{”, “}”, \" \" \", \" ’ \", \" / \", \" \\ \" и “|”;\n",
    "• адрес должен состоять только из латинских символов;\n",
    "• после символа “@” должна быть как минимум одна “.”;\n",
    "• после последней точки должно быть не менее 2-х и не более 4-х символов, причем наличие цифр не допускается;\n",
    "• между последней точкой и символом “@” должно быть не менее 2-х символов\n",
    "• слева от “@” должно быть не менее четырех символов"
   ]
  },
  {
   "cell_type": "code",
   "execution_count": null,
   "metadata": {},
   "outputs": [],
   "source": [
    "email = 'aalfal@lfalfjakl.fjf, 7d7d7d!!!@svjkskld.svsdv.sdv, holl@sochi.ru, tangram@mediaone.net, ab@ref.stinol.lipetsk.su, bond@isd.anet.donetsk.ua'\n",
    "find_email = r'[_A-Za-z0-9-+]+(\\.[_A-Za-z0-9-]+)*@[A-Za-z0-9-]{2,}(\\.[A-Za-z0-9]+)*(\\.[A-Za-z]{2,4})'\n",
    "re.findall(find_email, email)"
   ]
  },
  {
   "cell_type": "code",
   "execution_count": 23,
   "metadata": {},
   "outputs": [
    {
     "name": "stdout",
     "output_type": "stream",
     "text": [
      "<re.Match object; span=(0, 20), match='aalfal@lfalfjakl.fjf'>\n",
      "None\n",
      "<re.Match object; span=(0, 13), match='holl@sochi.ru'>\n",
      "<re.Match object; span=(0, 20), match='tangram@mediaone.net'>\n",
      "<re.Match object; span=(0, 24), match='ab@ref.stinol.lipetsk.su'>\n",
      "<re.Match object; span=(0, 24), match='bond@isd.anet.donetsk.ua'>\n"
     ]
    }
   ],
   "source": [
    "email = ['aalfal@lfalfjakl.fjf', '7d7d7d!!!@svjkskld.svsdv.sdv', 'holl@sochi.ru', 'tangram@mediaone.net', 'ab@ref.stinol.lipetsk.su', 'bond@isd.anet.donetsk.ua']\n",
    "find_email = r'[_A-Za-z0-9-+]+(\\.[_A-Za-z0-9-]+)*@[A-Za-z0-9-]{2,}(\\.[A-Za-z0-9]+)*(\\.[A-Za-z]{2,4})'\n",
    "for mail in email:\n",
    "    print(re.match(find_email, mail))"
   ]
  },
  {
   "cell_type": "markdown",
   "metadata": {},
   "source": [
    "**Задание 3.**\n",
    "Напишите функцию, которая будет удалять все последовательные повторы слов из заданной строки при помощи регулярных выражений."
   ]
  },
  {
   "cell_type": "code",
   "execution_count": 6,
   "metadata": {},
   "outputs": [
    {
     "name": "stdout",
     "output_type": "stream",
     "text": [
      "собака Конь\n"
     ]
    }
   ],
   "source": [
    "# Решение\n",
    "words = 'собака Собака   собака Конь конь'\n",
    "find_word = r'\\b([^\\W\\d_]+)(\\s+\\1)+\\b'\n",
    "word = r'\\1'\n",
    "#print(re.sub(r'\\b([^\\W\\d_]+)(\\s+\\1)+\\b', r'\\1', re.sub(r'\\W+ ','', words).strip(), flags=re.I))\n",
    "print(re.sub(find_word, word, words, flags=re.I))"
   ]
  },
  {
   "cell_type": "markdown",
   "metadata": {},
   "source": [
    "**Задание 4.**\n",
    "Напишите функцию, которая будет проверять номер сотового телефона на валидность, если он валиден, то переводить его в формат:\n",
    "+7(xxx)-xxx-xx-xx\n",
    "Постарайтесь предусмотреть как можно больше адекватных форматов изначального ввода номера. Примеры валидных форматов:\n",
    "• +7 955 555-55-55;\n",
    "• 9555555555;\n",
    "• 8(955)555-55-55;\n",
    "• +7 955 555 55 55;\n",
    "• 7(955) 555-55-55;\n",
    "• +7 955+555+55+55."
   ]
  },
  {
   "cell_type": "code",
   "execution_count": 25,
   "metadata": {},
   "outputs": [],
   "source": [
    "tel_num = ['+79261234567', '+7 955 555-55-55', '+7 955+555+55+55', '7(955) 555-55-55','89261234567', '79261234567', '+7 926 123 45 67', '8(926)123-45-67', '9261234567', '79261234567', '(495)1234567', '(495) 123 45 67', '89261234567', '8-926-123-45-67', '8 927 1234 234']"
   ]
  },
  {
   "cell_type": "code",
   "execution_count": null,
   "metadata": {},
   "outputs": [],
   "source": [
    "find_tel_num = r'((8|\\+7)[\\-+ ]?)?(\\(?\\d{3}\\)?[\\-+ ]?)?[\\d\\-+ ]{7,10}'\n",
    "for num in tel_num:\n",
    "    print(num)\n",
    "#     print(re.search(find_tel_num, num))\n",
    "    print(re.sub(find_tel_num, num))"
   ]
  },
  {
   "cell_type": "code",
   "execution_count": null,
   "metadata": {},
   "outputs": [],
   "source": [
    "find_tel_num = r'(8|\\+{0,1}7)?[()\\-+ ]?[()\\-+ ]?(\\d{3})?[()\\-+ ]?[()\\-+ ]?(\\d{3})?[()\\-+ ]?(\\d)?[()\\-+ ]?(\\d)?[()\\-+ ]?(\\d)?[()\\-+ ]?(\\d)'\n",
    "for num in tel_num:\n",
    "    num = re.search(find_tel_num, num)\n",
    "#     num = re.sub(find_tel_num, r'+7\\(\\2\\)-\\3'-\\4\\5-\\6\\7, num)\n",
    "    print(num, '/', num.group(1), num.group(2), num.group(3), num.group(4), num.group(5), num.group(6), num.group(7))\n",
    "#     print(re.search(find_tel_num, num))\n",
    "#     print(re.sub(find_tel_num, num))"
   ]
  },
  {
   "cell_type": "code",
   "execution_count": 26,
   "metadata": {},
   "outputs": [
    {
     "name": "stdout",
     "output_type": "stream",
     "text": [
      "+7(926)-123-45-67\n",
      "+7(955)-555-55-55\n",
      "+7(955)-555-55-55\n",
      "+7(955)-555-55-55\n",
      "+7(926)-123-45-67\n",
      "+7(926)-123-45-67\n",
      "+7(926)-123-45-67\n",
      "+7(926)-123-45-67\n",
      "+7(926)-123-45-67\n",
      "+7(926)-123-45-67\n",
      "+7(495)-123-45-67\n",
      "+7(495)-123-45-67\n",
      "+7(926)-123-45-67\n",
      "+7(926)-123-45-67\n",
      "+7(927)-123-42-34\n"
     ]
    }
   ],
   "source": [
    "find_tel_num = r'(8|\\+{0,1}7)?[()\\-+ ]?[()\\-+ ]?(\\d{3})[()\\-+ ]?[()\\-+ ]?(\\d{3})[()\\-+ ]?(\\d)[()\\-+ ]?(\\d)[()\\-+ ]?(\\d)[()\\-+ ]?(\\d)'\n",
    "for num in tel_num:\n",
    "    num = re.sub(find_tel_num, r'+7(\\2)-\\3-\\4\\5-\\6\\7', num)\n",
    "    print(num)"
   ]
  },
  {
   "cell_type": "code",
   "execution_count": 27,
   "metadata": {},
   "outputs": [],
   "source": [
    "#Решение\n",
    "def check_tel_num():\n",
    "    tel_num = input('Введите телефонный номер для проверки: ')\n",
    "    find_tel_num = r'(8|\\+{0,1}7)?[()\\-+ ]?[()\\-+ ]?(\\d{3})[()\\-+ ]?[()\\-+ ]?(\\d{3})[()\\-+ ]?(\\d)[()\\-+ ]?(\\d)[()\\-+ ]?(\\d)[()\\-+ ]?(\\d)$'\n",
    "    if re.match(find_tel_num, tel_num):\n",
    "        num = re.sub(find_tel_num, r'+7(\\2)-\\3-\\4\\5-\\6\\7', tel_num)\n",
    "        print(num)\n",
    "    else:\n",
    "        print('Неверный формат номера')"
   ]
  },
  {
   "cell_type": "code",
   "execution_count": 29,
   "metadata": {},
   "outputs": [
    {
     "name": "stdout",
     "output_type": "stream",
     "text": [
      "Введите телефонный номер для проверки: 88009090009\n",
      "+7(800)-909-00-09\n"
     ]
    }
   ],
   "source": [
    "check_tel_num()"
   ]
  },
  {
   "cell_type": "code",
   "execution_count": 30,
   "metadata": {},
   "outputs": [
    {
     "name": "stdout",
     "output_type": "stream",
     "text": [
      "Введите телефонный номер для проверки: 98789890\n",
      "Неверный формат номера\n"
     ]
    }
   ],
   "source": [
    "check_tel_num()"
   ]
  },
  {
   "cell_type": "code",
   "execution_count": 32,
   "metadata": {},
   "outputs": [
    {
     "name": "stdout",
     "output_type": "stream",
     "text": [
      "Введите телефонный номер для проверки: 7+800+777+77+77\n",
      "+7(800)-777-77-77\n"
     ]
    }
   ],
   "source": [
    "check_tel_num()"
   ]
  },
  {
   "cell_type": "code",
   "execution_count": 33,
   "metadata": {},
   "outputs": [
    {
     "name": "stdout",
     "output_type": "stream",
     "text": [
      "Введите телефонный номер для проверки: 98009996776\n",
      "Неверный формат номера\n"
     ]
    }
   ],
   "source": [
    "check_tel_num()"
   ]
  },
  {
   "cell_type": "code",
   "execution_count": null,
   "metadata": {},
   "outputs": [],
   "source": []
  }
 ],
 "metadata": {
  "kernelspec": {
   "display_name": "Python 3",
   "language": "python",
   "name": "python3"
  },
  "language_info": {
   "codemirror_mode": {
    "name": "ipython",
    "version": 3
   },
   "file_extension": ".py",
   "mimetype": "text/x-python",
   "name": "python",
   "nbconvert_exporter": "python",
   "pygments_lexer": "ipython3",
   "version": "3.7.4"
  }
 },
 "nbformat": 4,
 "nbformat_minor": 2
}
