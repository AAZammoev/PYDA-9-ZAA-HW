{
 "cells": [
  {
   "cell_type": "markdown",
   "metadata": {
    "id": "T7ZzWaMVe71E"
   },
   "source": [
    "# Домашнее задание \"Теория вероятности. Дискретные Случайные Величины\"."
   ]
  },
  {
   "cell_type": "code",
   "execution_count": 24,
   "metadata": {},
   "outputs": [],
   "source": [
    "import math\n",
    "from scipy.stats import binom\n",
    "import random\n",
    "import seaborn as sns\n",
    "import numpy as np"
   ]
  },
  {
   "cell_type": "markdown",
   "metadata": {
    "id": "lanA1DNve73x"
   },
   "source": [
    "## Уровень 0:"
   ]
  },
  {
   "cell_type": "markdown",
   "metadata": {
    "id": "trLO6c0pfXRA"
   },
   "source": [
    "- Задание 1:"
   ]
  },
  {
   "cell_type": "markdown",
   "metadata": {
    "id": "1Fj_TgHpfXTP"
   },
   "source": [
    "Монетку подбрасывают 15 раз, найдите вероятность выпадения простого числа орлов."
   ]
  },
  {
   "cell_type": "markdown",
   "metadata": {},
   "source": [
    "Количество экспериментов (n) = 15  \n",
    "Вероятность (p) = 0,5  \n",
    "Количество исходов () = 32768  \n",
    "Простые числа от 1 до 15 = [2,3,5,7,11,13]  \n",
    "Формула Бернулли: $p(k)=Ckn*(0.5**n)$  \n",
    "$Ckn=n!/(k!*(n−k)!)$  \n",
    "p(2) = 15!/(2!*(15-2)!) * (0.5\\**15) = (1307674368000/(2*(6227020800)) * 0,000030517578125 = 105 * 0,000030517578125 = 0,003204345703125  \n",
    "Аналогично находим все вероятности, а затем их складываем.\n",
    "Также можно сложить все влагоприятные исходы и разделить из на общее количество исходов"
   ]
  },
  {
   "cell_type": "code",
   "execution_count": 17,
   "metadata": {},
   "outputs": [
    {
     "name": "stdout",
     "output_type": "stream",
     "text": [
      "Вероятность выпадения 2 орлов равна 0.0032\n",
      "Вероятность выпадения 3 орлов равна 0.01389\n",
      "Вероятность выпадения 5 орлов равна 0.09164\n",
      "Вероятность выпадения 7 орлов равна 0.19638\n",
      "Вероятность выпадения 11 орлов равна 0.04166\n",
      "Вероятность выпадения 13 орлов равна 0.0032\n",
      "Вероятность выпадения простого числа орлов при 15-ти подбрасываниях равна 0.34998\n"
     ]
    }
   ],
   "source": [
    "good_itog   = [2,3,5,7,11,13]\n",
    "probability = 0.5\n",
    "n           = 15\n",
    "\n",
    "p = {}\n",
    "for i in good_itog:\n",
    "    p[i] = math.factorial(n) / (math.factorial(i) * math.factorial(n-i)) * probability**n\n",
    "    print(f\"Вероятность выпадения {i} орлов равна {round(p[i], 5)}\")\n",
    "                             \n",
    "print(f\"Вероятность выпадения простого числа орлов при 15-ти подбрасываниях равна {round(sum(p.values()), 5)}\")"
   ]
  },
  {
   "cell_type": "code",
   "execution_count": 20,
   "metadata": {},
   "outputs": [
    {
     "data": {
      "text/plain": [
       "0.3499755859375009"
      ]
     },
     "execution_count": 20,
     "metadata": {},
     "output_type": "execute_result"
    }
   ],
   "source": [
    "sum(binom.pmf(good_itog, n, probability))"
   ]
  },
  {
   "cell_type": "markdown",
   "metadata": {
    "id": "uqHn2CtkfXVb"
   },
   "source": [
    "- Задание 2:"
   ]
  },
  {
   "cell_type": "markdown",
   "metadata": {
    "id": "dc5gqI8gfXXk"
   },
   "source": [
    "\n",
    "Создайте свою дискретную случайную величину с не менее, чем 10 значениями. Просемплируйте 1000 случайных значений, постройте гистограмму плотности распределения по выборке, посчитайте среднее, дисперсию и медиану."
   ]
  },
  {
   "cell_type": "markdown",
   "metadata": {},
   "source": [
    "***Имитируем 1000 выстрелов по мишени с возможностью выбить от 1 до 10 очков. Считаем что все попадания случайные.***"
   ]
  },
  {
   "cell_type": "code",
   "execution_count": 32,
   "metadata": {},
   "outputs": [
    {
     "name": "stdout",
     "output_type": "stream",
     "text": [
      "Среднее 4.956\n",
      "Дисперсия 2.6423595516129144\n",
      "Медиана 5.0\n"
     ]
    },
    {
     "name": "stderr",
     "output_type": "stream",
     "text": [
      "D:\\Anaconda\\lib\\site-packages\\seaborn\\distributions.py:2551: FutureWarning: `distplot` is a deprecated function and will be removed in a future version. Please adapt your code to use either `displot` (a figure-level function with similar flexibility) or `histplot` (an axes-level function for histograms).\n",
      "  warnings.warn(msg, FutureWarning)\n"
     ]
    },
    {
     "data": {
      "image/png": "[encoded data removed]",
      "text/plain": [
       "<Figure size 432x288 with 1 Axes>"
      ]
     },
     "metadata": {
      "needs_background": "light"
     },
     "output_type": "display_data"
    }
   ],
   "source": [
    "data=np.random.randint(low=1, high=10, size=(1000))\n",
    "\n",
    "ax=sns.distplot(data,\n",
    "                kde=True,\n",
    "                color='b',\n",
    "                hist_kws={\"linewidth\": 20,'alpha':0.5})\n",
    "\n",
    "ax.set(xlabel='Распределение',ylabel='Частота')\n",
    "\n",
    "print('Среднее',data.mean())\n",
    "print('Дисперсия',data.std())\n",
    "print('Медиана',np.median(data))"
   ]
  },
  {
   "cell_type": "markdown",
   "metadata": {
    "id": "_6YnMFxzfS86"
   },
   "source": [
    "## Уровень 1:"
   ]
  },
  {
   "cell_type": "markdown",
   "metadata": {
    "id": "kCHPejMofn6b"
   },
   "source": [
    "- Задание 3:\n"
   ]
  },
  {
   "cell_type": "markdown",
   "metadata": {
    "id": "HfOQo_qkfmYC"
   },
   "source": [
    "Пусть брошены 3 уравновешенные монеты.\n",
    "\n",
    "Рассмотрим 3 события:\n",
    "\n",
    "A1 - монеты 1 и 2 упали одной и той же стороной;\n",
    "\n",
    "A2 - монеты 2 и 3 упали одной и той же стороной;\n",
    "\n",
    "A3 - монеты 1 и 3 упали одной и той же стороной.\n",
    "\n",
    "Покажите, почему эти 3 события (A1, A2, A3) являются попарно независимыми, но не являются независимыми в совокупности."
   ]
  },
  {
   "cell_type": "markdown",
   "metadata": {},
   "source": [
    "**Так как у монет всего по две стороны, то любая пара событий возможна, при этом третье событие будет комбинацией двух предыдущих.**"
   ]
  },
  {
   "cell_type": "markdown",
   "metadata": {
    "id": "S29TzpYSfmaC"
   },
   "source": [
    "- Задание 4 (формула полной вероятности):\n"
   ]
  },
  {
   "cell_type": "markdown",
   "metadata": {
    "id": "tDprfzp-fmcP"
   },
   "source": [
    "В магазин привезли устройства с 3-х разных предприятий. \n",
    "\n",
    "Соотношение устройств следующее: 20% - продукция первого предприятия, 30% - продукция второго предприятия, 50% - продукция третьего предприятия; далее, 10% продукции первого предприятия высшего сорта, на втором предприятии - 5% и на третьем - 20% продукции высшего сорта. \n",
    "\n",
    "Найти вероятность того, что случайно купленная новая продукция окажется высшего сорта.  "
   ]
  },
  {
   "cell_type": "markdown",
   "metadata": {},
   "source": [
    "**Вероятность купить:**  \n",
    "- деталь первого завода 20%, из них высшего сорта - 10%, итого - 2%  \n",
    "- деталь второго завода 30%, из них высшего сорта - 5%, итого - 1,5%  \n",
    "- деталь третьего завода 50%, из них высшего сорта - 20%, итого - 102% \n",
    "  \n",
    "**Вероятность купить деталь высшего сорта = 2% + 1,5% + 10% = 13,5%**"
   ]
  },
  {
   "cell_type": "code",
   "execution_count": null,
   "metadata": {},
   "outputs": [],
   "source": []
  }
 ],
 "metadata": {
  "colab": {
   "name": "HW_7",
   "provenance": []
  },
  "kernelspec": {
   "display_name": "Python 3",
   "language": "python",
   "name": "python3"
  },
  "language_info": {
   "codemirror_mode": {
    "name": "ipython",
    "version": 3
   },
   "file_extension": ".py",
   "mimetype": "text/x-python",
   "name": "python",
   "nbconvert_exporter": "python",
   "pygments_lexer": "ipython3",
   "version": "3.8.5"
  }
 },
 "nbformat": 4,
 "nbformat_minor": 1
}
