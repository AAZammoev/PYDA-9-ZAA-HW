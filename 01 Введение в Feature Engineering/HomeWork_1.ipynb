{
 "cells": [
  {
   "cell_type": "code",
   "execution_count": 2,
   "metadata": {},
   "outputs": [],
   "source": [
    "import numpy as np\n",
    "import pandas as pd\n",
    "\n",
    "from sklearn.linear_model import LinearRegression"
   ]
  },
  {
   "cell_type": "code",
   "execution_count": 16,
   "metadata": {},
   "outputs": [
    {
     "data": {
      "text/html": [
       "<div>\n",
       "<style scoped>\n",
       "    .dataframe tbody tr th:only-of-type {\n",
       "        vertical-align: middle;\n",
       "    }\n",
       "\n",
       "    .dataframe tbody tr th {\n",
       "        vertical-align: top;\n",
       "    }\n",
       "\n",
       "    .dataframe thead th {\n",
       "        text-align: right;\n",
       "    }\n",
       "</style>\n",
       "<table border=\"1\" class=\"dataframe\">\n",
       "  <thead>\n",
       "    <tr style=\"text-align: right;\">\n",
       "      <th></th>\n",
       "      <th>month</th>\n",
       "      <th>job_category</th>\n",
       "      <th>day_per_month</th>\n",
       "      <th>number_of_parts_per_day</th>\n",
       "      <th>order_number</th>\n",
       "      <th>cost_category</th>\n",
       "      <th>salary</th>\n",
       "    </tr>\n",
       "  </thead>\n",
       "  <tbody>\n",
       "    <tr>\n",
       "      <td>0</td>\n",
       "      <td>5</td>\n",
       "      <td>6</td>\n",
       "      <td>19</td>\n",
       "      <td>16</td>\n",
       "      <td>563239</td>\n",
       "      <td>100</td>\n",
       "      <td>183400</td>\n",
       "    </tr>\n",
       "    <tr>\n",
       "      <td>1</td>\n",
       "      <td>0</td>\n",
       "      <td>7</td>\n",
       "      <td>15</td>\n",
       "      <td>13</td>\n",
       "      <td>215356</td>\n",
       "      <td>100</td>\n",
       "      <td>137500</td>\n",
       "    </tr>\n",
       "    <tr>\n",
       "      <td>2</td>\n",
       "      <td>7</td>\n",
       "      <td>3</td>\n",
       "      <td>19</td>\n",
       "      <td>1</td>\n",
       "      <td>202806</td>\n",
       "      <td>100</td>\n",
       "      <td>6700</td>\n",
       "    </tr>\n",
       "    <tr>\n",
       "      <td>3</td>\n",
       "      <td>0</td>\n",
       "      <td>7</td>\n",
       "      <td>17</td>\n",
       "      <td>17</td>\n",
       "      <td>41931</td>\n",
       "      <td>100</td>\n",
       "      <td>203300</td>\n",
       "    </tr>\n",
       "    <tr>\n",
       "      <td>4</td>\n",
       "      <td>7</td>\n",
       "      <td>6</td>\n",
       "      <td>19</td>\n",
       "      <td>0</td>\n",
       "      <td>77298</td>\n",
       "      <td>100</td>\n",
       "      <td>1000</td>\n",
       "    </tr>\n",
       "  </tbody>\n",
       "</table>\n",
       "</div>"
      ],
      "text/plain": [
       "   month  job_category  day_per_month  number_of_parts_per_day  order_number  \\\n",
       "0      5             6             19                       16        563239   \n",
       "1      0             7             15                       13        215356   \n",
       "2      7             3             19                        1        202806   \n",
       "3      0             7             17                       17         41931   \n",
       "4      7             6             19                        0         77298   \n",
       "\n",
       "   cost_category  salary  \n",
       "0            100  183400  \n",
       "1            100  137500  \n",
       "2            100    6700  \n",
       "3            100  203300  \n",
       "4            100    1000  "
      ]
     },
     "execution_count": 16,
     "metadata": {},
     "output_type": "execute_result"
    }
   ],
   "source": [
    "# Создаём сэмпл\n",
    "n_samples = 1000\n",
    "\n",
    "month = np.random.choice(12, n_samples)\n",
    "job_category = np.random.randint(3, 8, n_samples)\n",
    "day_per_month = np.random.randint(15, 20, n_samples)\n",
    "number_of_parts_per_day = np.random.choice(20, n_samples)\n",
    "order_number = np.random.choice(1000000, n_samples)\n",
    "cost_category = 100\n",
    "bonus = 1000\n",
    "salary = day_per_month * number_of_parts_per_day * job_category * cost_category + bonus\n",
    "\n",
    "data = pd.DataFrame({'month': month, 'job_category': job_category, 'day_per_month': day_per_month, \n",
    "                     'number_of_parts_per_day': number_of_parts_per_day, 'order_number': order_number,\n",
    "                     'cost_category': cost_category, 'salary': salary})\n",
    "data.head(5)"
   ]
  },
  {
   "cell_type": "markdown",
   "metadata": {},
   "source": [
    "**Зарплата рабочего зависит от количества рабочих дней месяца, количества деталей обработанных за день, категории работы к которой относится деталь (чем выше категория тем дороже работа), стоимости работы и премии. \\\n",
    "Допущения - в один день одна категория работ, премия всегда равна 1000 руб. \\\n",
    "Номер заказа и месяц в расчете запрлаты не участвуют**"
   ]
  },
  {
   "cell_type": "code",
   "execution_count": 19,
   "metadata": {},
   "outputs": [
    {
     "name": "stdout",
     "output_type": "stream",
     "text": [
      "Weights: [ 7.84629814e+00  1.56095705e+04  4.58075347e+03  8.60401389e+03\n",
      " -8.54941593e-04  0.00000000e+00]\n",
      "Bias: -156240.9021936875\n",
      "Error: 10875.214624981467\n"
     ]
    }
   ],
   "source": [
    "from sklearn.metrics import mean_absolute_error\n",
    "\n",
    "X = data[['month', 'job_category', 'day_per_month', 'number_of_parts_per_day', 'order_number', 'cost_category']]\n",
    "y = data['salary']\n",
    "reg = LinearRegression().fit(X, y)\n",
    "print('Weights: {}'.format(reg.coef_))\n",
    "print('Bias: {}'.format(reg.intercept_))\n",
    "\n",
    "pred_values = reg.predict(data[['month', 'job_category', 'day_per_month', 'number_of_parts_per_day', 'order_number', 'cost_category']])\n",
    "print('Error: {}'.format(mean_absolute_error(pred_values, y)))"
   ]
  },
  {
   "cell_type": "markdown",
   "metadata": {},
   "source": [
    "**На первом шаге пробуем спрогнозировать зарплату исходя из всех признаков. \\\n",
    "Результат явно не оптимальный, смещение 156 240, хотя премия всегда одинакова и равна 1000 руб. \\\n",
    "Абсолютная ошибка более 10000 тысяч.**\\\n",
    "*Следующим шагом применим при расчете только влияющие на расчет признаки*"
   ]
  },
  {
   "cell_type": "code",
   "execution_count": 20,
   "metadata": {},
   "outputs": [
    {
     "name": "stdout",
     "output_type": "stream",
     "text": [
      "Weights: [15610.42813812  4585.07467482  8606.65526549     0.        ]\n",
      "Bias: -156726.34836365533\n",
      "Error: 10885.315957321356\n"
     ]
    }
   ],
   "source": [
    "from sklearn.metrics import mean_absolute_error\n",
    "\n",
    "X = data[['job_category', 'day_per_month', 'number_of_parts_per_day', 'cost_category']]\n",
    "y = data['salary']\n",
    "reg = LinearRegression().fit(X, y)\n",
    "print('Weights: {}'.format(reg.coef_))\n",
    "print('Bias: {}'.format(reg.intercept_))\n",
    "\n",
    "pred_values = reg.predict(data[['job_category', 'day_per_month', 'number_of_parts_per_day', 'cost_category']])\n",
    "print('Error: {}'.format(mean_absolute_error(pred_values, y)))"
   ]
  },
  {
   "cell_type": "markdown",
   "metadata": {},
   "source": [
    "**Результат снова неутешительный. Смещение и ошибка на том же уровне** \\\n",
    "*Создадим новый признак - выработка в месяц*"
   ]
  },
  {
   "cell_type": "code",
   "execution_count": 21,
   "metadata": {},
   "outputs": [
    {
     "data": {
      "text/html": [
       "<div>\n",
       "<style scoped>\n",
       "    .dataframe tbody tr th:only-of-type {\n",
       "        vertical-align: middle;\n",
       "    }\n",
       "\n",
       "    .dataframe tbody tr th {\n",
       "        vertical-align: top;\n",
       "    }\n",
       "\n",
       "    .dataframe thead th {\n",
       "        text-align: right;\n",
       "    }\n",
       "</style>\n",
       "<table border=\"1\" class=\"dataframe\">\n",
       "  <thead>\n",
       "    <tr style=\"text-align: right;\">\n",
       "      <th></th>\n",
       "      <th>month</th>\n",
       "      <th>job_category</th>\n",
       "      <th>day_per_month</th>\n",
       "      <th>number_of_parts_per_day</th>\n",
       "      <th>order_number</th>\n",
       "      <th>cost_category</th>\n",
       "      <th>salary</th>\n",
       "      <th>production</th>\n",
       "    </tr>\n",
       "  </thead>\n",
       "  <tbody>\n",
       "    <tr>\n",
       "      <td>0</td>\n",
       "      <td>5</td>\n",
       "      <td>6</td>\n",
       "      <td>19</td>\n",
       "      <td>16</td>\n",
       "      <td>563239</td>\n",
       "      <td>100</td>\n",
       "      <td>183400</td>\n",
       "      <td>1824</td>\n",
       "    </tr>\n",
       "    <tr>\n",
       "      <td>1</td>\n",
       "      <td>0</td>\n",
       "      <td>7</td>\n",
       "      <td>15</td>\n",
       "      <td>13</td>\n",
       "      <td>215356</td>\n",
       "      <td>100</td>\n",
       "      <td>137500</td>\n",
       "      <td>1365</td>\n",
       "    </tr>\n",
       "    <tr>\n",
       "      <td>2</td>\n",
       "      <td>7</td>\n",
       "      <td>3</td>\n",
       "      <td>19</td>\n",
       "      <td>1</td>\n",
       "      <td>202806</td>\n",
       "      <td>100</td>\n",
       "      <td>6700</td>\n",
       "      <td>57</td>\n",
       "    </tr>\n",
       "    <tr>\n",
       "      <td>3</td>\n",
       "      <td>0</td>\n",
       "      <td>7</td>\n",
       "      <td>17</td>\n",
       "      <td>17</td>\n",
       "      <td>41931</td>\n",
       "      <td>100</td>\n",
       "      <td>203300</td>\n",
       "      <td>2023</td>\n",
       "    </tr>\n",
       "    <tr>\n",
       "      <td>4</td>\n",
       "      <td>7</td>\n",
       "      <td>6</td>\n",
       "      <td>19</td>\n",
       "      <td>0</td>\n",
       "      <td>77298</td>\n",
       "      <td>100</td>\n",
       "      <td>1000</td>\n",
       "      <td>0</td>\n",
       "    </tr>\n",
       "  </tbody>\n",
       "</table>\n",
       "</div>"
      ],
      "text/plain": [
       "   month  job_category  day_per_month  number_of_parts_per_day  order_number  \\\n",
       "0      5             6             19                       16        563239   \n",
       "1      0             7             15                       13        215356   \n",
       "2      7             3             19                        1        202806   \n",
       "3      0             7             17                       17         41931   \n",
       "4      7             6             19                        0         77298   \n",
       "\n",
       "   cost_category  salary  production  \n",
       "0            100  183400        1824  \n",
       "1            100  137500        1365  \n",
       "2            100    6700          57  \n",
       "3            100  203300        2023  \n",
       "4            100    1000           0  "
      ]
     },
     "execution_count": 21,
     "metadata": {},
     "output_type": "execute_result"
    }
   ],
   "source": [
    "# Создаем новый признак\n",
    "data['production'] = data['job_category'] * data['day_per_month'] * data['number_of_parts_per_day']\n",
    "data.head(5)"
   ]
  },
  {
   "cell_type": "code",
   "execution_count": 25,
   "metadata": {},
   "outputs": [
    {
     "name": "stdout",
     "output_type": "stream",
     "text": [
      "Weights: [100.   0.]\n",
      "Bias: 999.9999999999854\n",
      "Error: 1.3305907486937941e-11\n"
     ]
    }
   ],
   "source": [
    "from sklearn.metrics import mean_absolute_error\n",
    "\n",
    "X = data[['production', 'cost_category']]\n",
    "y = data['salary']\n",
    "reg = LinearRegression().fit(X, y)\n",
    "print('Weights: {}'.format(reg.coef_))\n",
    "print('Bias: {}'.format(reg.intercept_))\n",
    "\n",
    "pred_values = reg.predict(data[['production', 'cost_category']])\n",
    "print('Error: {}'.format(mean_absolute_error(pred_values, y)))"
   ]
  },
  {
   "cell_type": "markdown",
   "metadata": {},
   "source": [
    "**При использовании агрегирующего признака модель строит точное предсказание, т.к. модель линейна и предсказывает веса каждого признака. Однако здесь есть признак категория работы с весом = 0, это потому что признак является константой.** \\\n",
    "*Уберем этот признак*"
   ]
  },
  {
   "cell_type": "code",
   "execution_count": 40,
   "metadata": {},
   "outputs": [
    {
     "name": "stdout",
     "output_type": "stream",
     "text": [
      "Weights: [100.]\n",
      "Bias: 1000.0\n",
      "Bias: 0.0\n"
     ]
    }
   ],
   "source": [
    "from sklearn.metrics import mean_absolute_error\n",
    "\n",
    "X = data[['production']]\n",
    "y = data['salary']\n",
    "reg = LinearRegression().fit(X, y)\n",
    "print('Weights: {}'.format(reg.coef_))\n",
    "print(f'Bias: {np.round(reg.intercept_)}')\n",
    "\n",
    "pred_values = reg.predict(data[['production']])\n",
    "print(f'Bias: {np.round(mean_absolute_error(pred_values, y))}')"
   ]
  },
  {
   "cell_type": "markdown",
   "metadata": {},
   "source": [
    "**Теперь видим стопроцентную точность предсказания**"
   ]
  },
  {
   "cell_type": "code",
   "execution_count": null,
   "metadata": {},
   "outputs": [],
   "source": []
  }
 ],
 "metadata": {
  "kernelspec": {
   "display_name": "Python 3",
   "language": "python",
   "name": "python3"
  },
  "language_info": {
   "codemirror_mode": {
    "name": "ipython",
    "version": 3
   },
   "file_extension": ".py",
   "mimetype": "text/x-python",
   "name": "python",
   "nbconvert_exporter": "python",
   "pygments_lexer": "ipython3",
   "version": "3.7.4"
  }
 },
 "nbformat": 4,
 "nbformat_minor": 2
}
