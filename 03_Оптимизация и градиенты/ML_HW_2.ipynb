{
 "cells": [
  {
   "cell_type": "markdown",
   "metadata": {},
   "source": [
    "### Строим модели линейной и логистической регрессии"
   ]
  },
  {
   "cell_type": "code",
   "execution_count": 1,
   "metadata": {
    "ExecuteTime": {
     "end_time": "2020-06-15T17:04:33.949399Z",
     "start_time": "2020-06-15T17:04:33.929268Z"
    }
   },
   "outputs": [],
   "source": [
    "import pandas as pd\n",
    "import numpy as np\n",
    "import random\n",
    "from sklearn.datasets.samples_generator import make_regression\n",
    "from sklearn import datasets \n",
    "import pylab\n",
    "from scipy import stats\n",
    "import math"
   ]
  },
  {
   "cell_type": "code",
   "execution_count": 2,
   "metadata": {},
   "outputs": [],
   "source": [
    "iris = datasets.load_iris()"
   ]
  },
  {
   "cell_type": "code",
   "execution_count": 3,
   "metadata": {},
   "outputs": [
    {
     "data": {
      "text/plain": [
       "array([[5.1, 3.5, 1.4, 0.2],\n",
       "       [4.9, 3. , 1.4, 0.2],\n",
       "       [4.7, 3.2, 1.3, 0.2],\n",
       "       [4.6, 3.1, 1.5, 0.2],\n",
       "       [5. , 3.6, 1.4, 0.2]])"
      ]
     },
     "execution_count": 3,
     "metadata": {},
     "output_type": "execute_result"
    }
   ],
   "source": [
    "x = iris.data[0:100]\n",
    "x[:5]"
   ]
  },
  {
   "cell_type": "code",
   "execution_count": 4,
   "metadata": {},
   "outputs": [
    {
     "data": {
      "text/plain": [
       "array([0, 0, 0, 0, 0, 0, 0, 0, 0, 0, 0, 0, 0, 0, 0, 0, 0, 0, 0, 0, 0, 0,\n",
       "       0, 0, 0, 0, 0, 0, 0, 0, 0, 0, 0, 0, 0, 0, 0, 0, 0, 0, 0, 0, 0, 0,\n",
       "       0, 0, 0, 0, 0, 0, 1, 1, 1, 1, 1, 1, 1, 1, 1, 1, 1, 1, 1, 1, 1, 1,\n",
       "       1, 1, 1, 1, 1, 1, 1, 1, 1, 1, 1, 1, 1, 1, 1, 1, 1, 1, 1, 1, 1, 1,\n",
       "       1, 1, 1, 1, 1, 1, 1, 1, 1, 1, 1, 1])"
      ]
     },
     "execution_count": 4,
     "metadata": {},
     "output_type": "execute_result"
    }
   ],
   "source": [
    "y = iris.target[0:100]\n",
    "y"
   ]
  },
  {
   "cell_type": "code",
   "execution_count": 5,
   "metadata": {},
   "outputs": [],
   "source": [
    "def gradient_desend_4(alfa, x, y, numIterations):\n",
    "    \"\"\"\n",
    "    Функция реализует алгоритм градиентного спуска. На каждом шаге вводится значение потерь\n",
    "    \"\"\"\n",
    "    \n",
    "    m = x.shape[0] #100\n",
    "    theta = np.ones(len(x[0])) # [...] Веса модели\n",
    "    x_transpose = x.transpose() #Транспонированная матрица х\n",
    "        \n",
    "    for iter in range(0, numIterations):\n",
    "        \n",
    "        hypothesis = 1 / (1 + math.e**(-1*np.dot(x, theta.T))) # предсказание y\n",
    "        loss = hypothesis - y\n",
    "        \n",
    "        gradient = np.dot(x_transpose, loss) / m # Градиент = (транспонированная матрица х * на веса) / на количество данных\n",
    "        \n",
    "        J = (-y * np.log(hypothesis)) - ((1 - y) * np.log(1 - hypothesis)) # Логарифмическое уравнение правдоподобия\n",
    "        J = np.mean(J)\n",
    "        J_1 = np.sum(loss**2)/(2*m) # Функция потерь LOSS FUNCTIONS (MSE)\n",
    "       \n",
    "        theta = theta - alfa * gradient # Обновляем значение theta\n",
    "       \n",
    "    return theta"
   ]
  },
  {
   "cell_type": "code",
   "execution_count": 10,
   "metadata": {},
   "outputs": [
    {
     "data": {
      "text/plain": [
       "array([-0.61584446, -0.69271364,  1.61334803,  1.36577309])"
      ]
     },
     "execution_count": 10,
     "metadata": {},
     "output_type": "execute_result"
    }
   ],
   "source": [
    "theta = gradient_desend_4(0.1, x, y, 100)\n",
    "theta"
   ]
  },
  {
   "cell_type": "code",
   "execution_count": 11,
   "metadata": {},
   "outputs": [],
   "source": [
    "prediction = 1 / (1 + math.e**(-1*np.dot(x, theta)))"
   ]
  },
  {
   "cell_type": "code",
   "execution_count": 12,
   "metadata": {},
   "outputs": [],
   "source": [
    "pred_y = np.where(prediction >= .5, 1, 0)"
   ]
  },
  {
   "cell_type": "code",
   "execution_count": 13,
   "metadata": {},
   "outputs": [
    {
     "name": "stdout",
     "output_type": "stream",
     "text": [
      "Количество точных предсказаний: 100\n"
     ]
    }
   ],
   "source": [
    "print(\"Количество точных предсказаний:\", np.sum(y == pred_y))"
   ]
  },
  {
   "cell_type": "code",
   "execution_count": 15,
   "metadata": {},
   "outputs": [],
   "source": [
    "def gradient_desend_5(alfa, x, y, numIterations):\n",
    "    \"\"\"\n",
    "    Функция реализует алгоритм Nesterov Accelerated Gradient\n",
    "    \"\"\"\n",
    "    \n",
    "    m = x.shape[0] #100\n",
    "    theta = np.ones(len(x[0])) # [...] Веса модели\n",
    "    change_theta = np.zeros(len(x[0])) # [...] Веса модели\n",
    "    x_transpose = x.transpose() #Транспонированная матрица х\n",
    "        \n",
    "    for iter in range(0, numIterations):\n",
    "        \n",
    "        hypothesis = 1 / (1 + math.e**(-1*np.dot(x, theta.T))) # предсказание y\n",
    "        loss = hypothesis - y\n",
    "        \n",
    "        gradient = np.dot(x_transpose, loss) / m # Градиент = (транспонированная матрица х * на веса) / на количество данных\n",
    "        \n",
    "        J = (-y * np.log(hypothesis)) - ((1 - y) * np.log(1 - hypothesis)) # Логарифмическое уравнение правдоподобия\n",
    "        J = np.mean(J)\n",
    "        J_1 = np.sum(loss**2)/(2*m) # Функция потерь LOSS FUNCTIONS (MSE)\n",
    "        \n",
    "        old_theta = theta\n",
    "        theta = theta - (0.9*change_theta + alfa * gradient) # Обновляем значение theta\n",
    "        change_theta += (old_theta - theta)\n",
    "        \n",
    "    return theta"
   ]
  },
  {
   "cell_type": "code",
   "execution_count": 16,
   "metadata": {},
   "outputs": [
    {
     "name": "stderr",
     "output_type": "stream",
     "text": [
      "C:\\Users\\AAZam\\Anaconda3\\lib\\site-packages\\ipykernel_launcher.py:13: RuntimeWarning: overflow encountered in power\n",
      "  del sys.path[0]\n",
      "C:\\Users\\AAZam\\Anaconda3\\lib\\site-packages\\ipykernel_launcher.py:18: RuntimeWarning: divide by zero encountered in log\n",
      "C:\\Users\\AAZam\\Anaconda3\\lib\\site-packages\\ipykernel_launcher.py:18: RuntimeWarning: invalid value encountered in multiply\n"
     ]
    },
    {
     "data": {
      "text/plain": [
       "array([-1.49103105e+27, -1.08650958e+27, -3.08673042e+26, -2.14261142e+25])"
      ]
     },
     "execution_count": 16,
     "metadata": {},
     "output_type": "execute_result"
    }
   ],
   "source": [
    "theta = gradient_desend_5(0.1, x, y, 100)\n",
    "theta"
   ]
  },
  {
   "cell_type": "code",
   "execution_count": null,
   "metadata": {},
   "outputs": [],
   "source": []
  }
 ],
 "metadata": {
  "kernelspec": {
   "display_name": "Python 3",
   "language": "python",
   "name": "python3"
  },
  "language_info": {
   "codemirror_mode": {
    "name": "ipython",
    "version": 3
   },
   "file_extension": ".py",
   "mimetype": "text/x-python",
   "name": "python",
   "nbconvert_exporter": "python",
   "pygments_lexer": "ipython3",
   "version": "3.7.4"
  }
 },
 "nbformat": 4,
 "nbformat_minor": 2
}
