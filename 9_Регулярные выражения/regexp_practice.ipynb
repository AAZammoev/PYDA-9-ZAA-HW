{
 "cells": [
  {
   "cell_type": "code",
   "execution_count": 1,
   "metadata": {},
   "outputs": [],
   "source": [
    "import re"
   ]
  },
  {
   "cell_type": "code",
   "execution_count": 2,
   "metadata": {},
   "outputs": [],
   "source": [
    "# найдем идентификаторы пользователей в тексте\n",
    "msg = 'В розыгрыше победили: id1234563, id4653, id46!'"
   ]
  },
  {
   "cell_type": "code",
   "execution_count": 3,
   "metadata": {},
   "outputs": [
    {
     "data": {
      "text/plain": [
       "['id1234563', 'id4653', 'id46']"
      ]
     },
     "execution_count": 3,
     "metadata": {},
     "output_type": "execute_result"
    }
   ],
   "source": [
    "re.findall(r'id\\d+', msg)"
   ]
  },
  {
   "cell_type": "code",
   "execution_count": 4,
   "metadata": {},
   "outputs": [],
   "source": [
    "# ПРАКТИКА. Найдем хэштеги в твите\n",
    "tweet = 'когда #эпидемия, то обязательно #оставайсядома'"
   ]
  },
  {
   "cell_type": "code",
   "execution_count": 6,
   "metadata": {},
   "outputs": [
    {
     "data": {
      "text/plain": [
       "['#эпидемия', '#оставайсядома']"
      ]
     },
     "execution_count": 6,
     "metadata": {},
     "output_type": "execute_result"
    }
   ],
   "source": [
    "re.findall(r'#\\w+', tweet)"
   ]
  },
  {
   "cell_type": "code",
   "execution_count": null,
   "metadata": {},
   "outputs": [],
   "source": [
    "re.findall(r'#\\w+', tweet)"
   ]
  },
  {
   "cell_type": "code",
   "execution_count": 7,
   "metadata": {},
   "outputs": [],
   "source": [
    "# посмотрим внимательнее, как работают quantifiers\n",
    "text = \"\"\"Что такое регулярные выражения и как их использовать? \n",
    "Говоря простым языком, регулярное выражение — это последовательность символов, используемая для поиска и замены текста в строке или файле. Как уже было упомянуто,\\\n",
    "их поддерживает множество языков общего назначения: Python, Perl, R.\n",
    "Так что изучение регулярных выражений рано или поздно пригодится.\"\"\""
   ]
  },
  {
   "cell_type": "code",
   "execution_count": 8,
   "metadata": {
    "scrolled": true
   },
   "outputs": [
    {
     "data": {
      "text/plain": [
       "['Что',\n",
       " 'такое',\n",
       " 'регулярные',\n",
       " 'выражения',\n",
       " 'и',\n",
       " 'как',\n",
       " 'их',\n",
       " 'использовать',\n",
       " 'Говоря',\n",
       " 'простым',\n",
       " 'языком',\n",
       " 'регулярное',\n",
       " 'выражение',\n",
       " 'это',\n",
       " 'последовательность',\n",
       " 'символов',\n",
       " 'используемая',\n",
       " 'для',\n",
       " 'поиска',\n",
       " 'и',\n",
       " 'замены',\n",
       " 'текста',\n",
       " 'в',\n",
       " 'строке',\n",
       " 'или',\n",
       " 'файле',\n",
       " 'Как',\n",
       " 'уже',\n",
       " 'было',\n",
       " 'упомянуто',\n",
       " 'их',\n",
       " 'поддерживает',\n",
       " 'множество',\n",
       " 'языков',\n",
       " 'общего',\n",
       " 'назначения',\n",
       " 'Python',\n",
       " 'Perl',\n",
       " 'R',\n",
       " 'Так',\n",
       " 'что',\n",
       " 'изучение',\n",
       " 'регулярных',\n",
       " 'выражений',\n",
       " 'рано',\n",
       " 'или',\n",
       " 'поздно',\n",
       " 'пригодится']"
      ]
     },
     "execution_count": 8,
     "metadata": {},
     "output_type": "execute_result"
    }
   ],
   "source": [
    "re.findall(r'\\w+', text)"
   ]
  },
  {
   "cell_type": "code",
   "execution_count": 9,
   "metadata": {},
   "outputs": [
    {
     "data": {
      "text/plain": [
       "['Что',\n",
       " '',\n",
       " 'такое',\n",
       " '',\n",
       " 'регулярные',\n",
       " '',\n",
       " 'выражения',\n",
       " '',\n",
       " 'и',\n",
       " '',\n",
       " 'как',\n",
       " '',\n",
       " 'их',\n",
       " '',\n",
       " 'использовать',\n",
       " '',\n",
       " '',\n",
       " '',\n",
       " 'Говоря',\n",
       " '',\n",
       " 'простым',\n",
       " '',\n",
       " 'языком',\n",
       " '',\n",
       " '',\n",
       " 'регулярное',\n",
       " '',\n",
       " 'выражение',\n",
       " '',\n",
       " '',\n",
       " '',\n",
       " 'это',\n",
       " '',\n",
       " 'последовательность',\n",
       " '',\n",
       " 'символов',\n",
       " '',\n",
       " '',\n",
       " 'используемая',\n",
       " '',\n",
       " 'для',\n",
       " '',\n",
       " 'поиска',\n",
       " '',\n",
       " 'и',\n",
       " '',\n",
       " 'замены',\n",
       " '',\n",
       " 'текста',\n",
       " '',\n",
       " 'в',\n",
       " '',\n",
       " 'строке',\n",
       " '',\n",
       " 'или',\n",
       " '',\n",
       " 'файле',\n",
       " '',\n",
       " '',\n",
       " 'Как',\n",
       " '',\n",
       " 'уже',\n",
       " '',\n",
       " 'было',\n",
       " '',\n",
       " 'упомянуто',\n",
       " '',\n",
       " 'их',\n",
       " '',\n",
       " 'поддерживает',\n",
       " '',\n",
       " 'множество',\n",
       " '',\n",
       " 'языков',\n",
       " '',\n",
       " 'общего',\n",
       " '',\n",
       " 'назначения',\n",
       " '',\n",
       " '',\n",
       " 'Python',\n",
       " '',\n",
       " '',\n",
       " 'Perl',\n",
       " '',\n",
       " '',\n",
       " 'R',\n",
       " '',\n",
       " '',\n",
       " 'Так',\n",
       " '',\n",
       " 'что',\n",
       " '',\n",
       " 'изучение',\n",
       " '',\n",
       " 'регулярных',\n",
       " '',\n",
       " 'выражений',\n",
       " '',\n",
       " 'рано',\n",
       " '',\n",
       " 'или',\n",
       " '',\n",
       " 'поздно',\n",
       " '',\n",
       " 'пригодится',\n",
       " '',\n",
       " '']"
      ]
     },
     "execution_count": 9,
     "metadata": {},
     "output_type": "execute_result"
    }
   ],
   "source": [
    "re.findall(r'\\w*', text)"
   ]
  },
  {
   "cell_type": "code",
   "execution_count": 10,
   "metadata": {},
   "outputs": [
    {
     "data": {
      "text/plain": [
       "['Ч',\n",
       " 'т',\n",
       " 'о',\n",
       " '',\n",
       " 'т',\n",
       " 'а',\n",
       " 'к',\n",
       " 'о',\n",
       " 'е',\n",
       " '',\n",
       " 'р',\n",
       " 'е',\n",
       " 'г',\n",
       " 'у',\n",
       " 'л',\n",
       " 'я',\n",
       " 'р',\n",
       " 'н',\n",
       " 'ы',\n",
       " 'е',\n",
       " '',\n",
       " 'в',\n",
       " 'ы',\n",
       " 'р',\n",
       " 'а',\n",
       " 'ж',\n",
       " 'е',\n",
       " 'н',\n",
       " 'и',\n",
       " 'я',\n",
       " '',\n",
       " 'и',\n",
       " '',\n",
       " 'к',\n",
       " 'а',\n",
       " 'к',\n",
       " '',\n",
       " 'и',\n",
       " 'х',\n",
       " '',\n",
       " 'и',\n",
       " 'с',\n",
       " 'п',\n",
       " 'о',\n",
       " 'л',\n",
       " 'ь',\n",
       " 'з',\n",
       " 'о',\n",
       " 'в',\n",
       " 'а',\n",
       " 'т',\n",
       " 'ь',\n",
       " '',\n",
       " '',\n",
       " '',\n",
       " 'Г',\n",
       " 'о',\n",
       " 'в',\n",
       " 'о',\n",
       " 'р',\n",
       " 'я',\n",
       " '',\n",
       " 'п',\n",
       " 'р',\n",
       " 'о',\n",
       " 'с',\n",
       " 'т',\n",
       " 'ы',\n",
       " 'м',\n",
       " '',\n",
       " 'я',\n",
       " 'з',\n",
       " 'ы',\n",
       " 'к',\n",
       " 'о',\n",
       " 'м',\n",
       " '',\n",
       " '',\n",
       " 'р',\n",
       " 'е',\n",
       " 'г',\n",
       " 'у',\n",
       " 'л',\n",
       " 'я',\n",
       " 'р',\n",
       " 'н',\n",
       " 'о',\n",
       " 'е',\n",
       " '',\n",
       " 'в',\n",
       " 'ы',\n",
       " 'р',\n",
       " 'а',\n",
       " 'ж',\n",
       " 'е',\n",
       " 'н',\n",
       " 'и',\n",
       " 'е',\n",
       " '',\n",
       " '',\n",
       " '',\n",
       " 'э',\n",
       " 'т',\n",
       " 'о',\n",
       " '',\n",
       " 'п',\n",
       " 'о',\n",
       " 'с',\n",
       " 'л',\n",
       " 'е',\n",
       " 'д',\n",
       " 'о',\n",
       " 'в',\n",
       " 'а',\n",
       " 'т',\n",
       " 'е',\n",
       " 'л',\n",
       " 'ь',\n",
       " 'н',\n",
       " 'о',\n",
       " 'с',\n",
       " 'т',\n",
       " 'ь',\n",
       " '',\n",
       " 'с',\n",
       " 'и',\n",
       " 'м',\n",
       " 'в',\n",
       " 'о',\n",
       " 'л',\n",
       " 'о',\n",
       " 'в',\n",
       " '',\n",
       " '',\n",
       " 'и',\n",
       " 'с',\n",
       " 'п',\n",
       " 'о',\n",
       " 'л',\n",
       " 'ь',\n",
       " 'з',\n",
       " 'у',\n",
       " 'е',\n",
       " 'м',\n",
       " 'а',\n",
       " 'я',\n",
       " '',\n",
       " 'д',\n",
       " 'л',\n",
       " 'я',\n",
       " '',\n",
       " 'п',\n",
       " 'о',\n",
       " 'и',\n",
       " 'с',\n",
       " 'к',\n",
       " 'а',\n",
       " '',\n",
       " 'и',\n",
       " '',\n",
       " 'з',\n",
       " 'а',\n",
       " 'м',\n",
       " 'е',\n",
       " 'н',\n",
       " 'ы',\n",
       " '',\n",
       " 'т',\n",
       " 'е',\n",
       " 'к',\n",
       " 'с',\n",
       " 'т',\n",
       " 'а',\n",
       " '',\n",
       " 'в',\n",
       " '',\n",
       " 'с',\n",
       " 'т',\n",
       " 'р',\n",
       " 'о',\n",
       " 'к',\n",
       " 'е',\n",
       " '',\n",
       " 'и',\n",
       " 'л',\n",
       " 'и',\n",
       " '',\n",
       " 'ф',\n",
       " 'а',\n",
       " 'й',\n",
       " 'л',\n",
       " 'е',\n",
       " '',\n",
       " '',\n",
       " 'К',\n",
       " 'а',\n",
       " 'к',\n",
       " '',\n",
       " 'у',\n",
       " 'ж',\n",
       " 'е',\n",
       " '',\n",
       " 'б',\n",
       " 'ы',\n",
       " 'л',\n",
       " 'о',\n",
       " '',\n",
       " 'у',\n",
       " 'п',\n",
       " 'о',\n",
       " 'м',\n",
       " 'я',\n",
       " 'н',\n",
       " 'у',\n",
       " 'т',\n",
       " 'о',\n",
       " '',\n",
       " 'и',\n",
       " 'х',\n",
       " '',\n",
       " 'п',\n",
       " 'о',\n",
       " 'д',\n",
       " 'д',\n",
       " 'е',\n",
       " 'р',\n",
       " 'ж',\n",
       " 'и',\n",
       " 'в',\n",
       " 'а',\n",
       " 'е',\n",
       " 'т',\n",
       " '',\n",
       " 'м',\n",
       " 'н',\n",
       " 'о',\n",
       " 'ж',\n",
       " 'е',\n",
       " 'с',\n",
       " 'т',\n",
       " 'в',\n",
       " 'о',\n",
       " '',\n",
       " 'я',\n",
       " 'з',\n",
       " 'ы',\n",
       " 'к',\n",
       " 'о',\n",
       " 'в',\n",
       " '',\n",
       " 'о',\n",
       " 'б',\n",
       " 'щ',\n",
       " 'е',\n",
       " 'г',\n",
       " 'о',\n",
       " '',\n",
       " 'н',\n",
       " 'а',\n",
       " 'з',\n",
       " 'н',\n",
       " 'а',\n",
       " 'ч',\n",
       " 'е',\n",
       " 'н',\n",
       " 'и',\n",
       " 'я',\n",
       " '',\n",
       " '',\n",
       " 'P',\n",
       " 'y',\n",
       " 't',\n",
       " 'h',\n",
       " 'o',\n",
       " 'n',\n",
       " '',\n",
       " '',\n",
       " 'P',\n",
       " 'e',\n",
       " 'r',\n",
       " 'l',\n",
       " '',\n",
       " '',\n",
       " 'R',\n",
       " '',\n",
       " '',\n",
       " 'Т',\n",
       " 'а',\n",
       " 'к',\n",
       " '',\n",
       " 'ч',\n",
       " 'т',\n",
       " 'о',\n",
       " '',\n",
       " 'и',\n",
       " 'з',\n",
       " 'у',\n",
       " 'ч',\n",
       " 'е',\n",
       " 'н',\n",
       " 'и',\n",
       " 'е',\n",
       " '',\n",
       " 'р',\n",
       " 'е',\n",
       " 'г',\n",
       " 'у',\n",
       " 'л',\n",
       " 'я',\n",
       " 'р',\n",
       " 'н',\n",
       " 'ы',\n",
       " 'х',\n",
       " '',\n",
       " 'в',\n",
       " 'ы',\n",
       " 'р',\n",
       " 'а',\n",
       " 'ж',\n",
       " 'е',\n",
       " 'н',\n",
       " 'и',\n",
       " 'й',\n",
       " '',\n",
       " 'р',\n",
       " 'а',\n",
       " 'н',\n",
       " 'о',\n",
       " '',\n",
       " 'и',\n",
       " 'л',\n",
       " 'и',\n",
       " '',\n",
       " 'п',\n",
       " 'о',\n",
       " 'з',\n",
       " 'д',\n",
       " 'н',\n",
       " 'о',\n",
       " '',\n",
       " 'п',\n",
       " 'р',\n",
       " 'и',\n",
       " 'г',\n",
       " 'о',\n",
       " 'д',\n",
       " 'и',\n",
       " 'т',\n",
       " 'с',\n",
       " 'я',\n",
       " '',\n",
       " '']"
      ]
     },
     "execution_count": 10,
     "metadata": {},
     "output_type": "execute_result"
    }
   ],
   "source": [
    "re.findall(r'\\w?', text)"
   ]
  },
  {
   "cell_type": "code",
   "execution_count": 11,
   "metadata": {},
   "outputs": [],
   "source": [
    "# необходимо из строки с условными датами вытащить их\n",
    "registration = 'Date of start: 4-12. Date of registration: 20-11'"
   ]
  },
  {
   "cell_type": "code",
   "execution_count": 12,
   "metadata": {},
   "outputs": [
    {
     "data": {
      "text/plain": [
       "['4-12', '20-11']"
      ]
     },
     "execution_count": 12,
     "metadata": {},
     "output_type": "execute_result"
    }
   ],
   "source": [
    "re.findall(r'\\d{1,2}-\\d{1,2}', registration)"
   ]
  },
  {
   "cell_type": "code",
   "execution_count": 13,
   "metadata": {},
   "outputs": [],
   "source": [
    "# вытащим номера телефонов и текста\n",
    "phone_numbers = 'Мария: 8-943-342-23-32 Александр: 8-323-432-23-67'"
   ]
  },
  {
   "cell_type": "code",
   "execution_count": 14,
   "metadata": {},
   "outputs": [
    {
     "data": {
      "text/plain": [
       "['8-943-342-23-32', '8-323-432-23-67']"
      ]
     },
     "execution_count": 14,
     "metadata": {},
     "output_type": "execute_result"
    }
   ],
   "source": [
    "phone_pattern = r'\\d-\\d{3}-\\d{3}-\\d{2}-\\d{2}'\n",
    "re.findall(phone_pattern, phone_numbers)"
   ]
  },
  {
   "cell_type": "code",
   "execution_count": 20,
   "metadata": {
    "scrolled": true
   },
   "outputs": [],
   "source": [
    "# ПРАКТИКА. Свалидируем дату\n",
    "date = '1st september 2019 17:25'"
   ]
  },
  {
   "cell_type": "code",
   "execution_count": 22,
   "metadata": {},
   "outputs": [
    {
     "data": {
      "text/plain": [
       "['1st september 2019 17:25']"
      ]
     },
     "execution_count": 22,
     "metadata": {},
     "output_type": "execute_result"
    }
   ],
   "source": [
    "date_pattern = r'\\d{1,2}\\w{1,2}\\s\\w+\\s\\d{1,4}\\s\\d{1,2}:\\d{1,2}'\n",
    "re.findall(date_pattern, date)"
   ]
  },
  {
   "cell_type": "code",
   "execution_count": 23,
   "metadata": {},
   "outputs": [],
   "source": [
    "# ПРАКТИКА. Посчитаем количество лайков и репостов по всем сообщениям\n",
    "messages = ['Опять дождь! Лайков: 5, Репостов: 4', 'Крутой был концерт! Лайков: 28, Репостов: 22']"
   ]
  },
  {
   "cell_type": "code",
   "execution_count": 25,
   "metadata": {},
   "outputs": [],
   "source": [
    "likes_pattern = r'Лайков:\\s\\d+'\n",
    "repost_pattern = r'Репостов:\\s\\d+'\n",
    "likes = 0\n",
    "repost = 0"
   ]
  },
  {
   "cell_type": "code",
   "execution_count": 26,
   "metadata": {},
   "outputs": [
    {
     "name": "stdout",
     "output_type": "stream",
     "text": [
      "33\n",
      "26\n"
     ]
    }
   ],
   "source": [
    "for mes in messages:\n",
    "    if re.findall(likes_pattern, mes):\n",
    "        likes += int(re.findall(r'\\d+', re.findall(likes_pattern, mes)[0])[0])\n",
    "    if re.findall(repost_pattern, mes):\n",
    "        repost += int(re.findall(r'\\d+', re.findall(repost_pattern, mes)[0])[0])\n",
    "print(likes)\n",
    "print(repost)"
   ]
  },
  {
   "cell_type": "code",
   "execution_count": 15,
   "metadata": {},
   "outputs": [],
   "source": [
    "# посчитаем количество восклицательных предложений в твите\n",
    "tweet_2 = 'Какое замечательное место! Обязательно вернусть сюда снова. Всем советую!!!'"
   ]
  },
  {
   "cell_type": "code",
   "execution_count": 19,
   "metadata": {},
   "outputs": [
    {
     "data": {
      "text/plain": [
       "['Какое замечательное место',\n",
       " 'Обязательно вернусть сюда снова. Всем советую!!!']"
      ]
     },
     "execution_count": 19,
     "metadata": {},
     "output_type": "execute_result"
    }
   ],
   "source": [
    "# re.split(r'!+', tweet_2)\n",
    "# re.split(r'!+ ', tweet_2)\n",
    "print(re.split(r'!+\\s', tweet_2))\n",
    "# len(re.split(r'!+\\s', tweet_2))"
   ]
  },
  {
   "cell_type": "code",
   "execution_count": null,
   "metadata": {},
   "outputs": [],
   "source": []
  },
  {
   "cell_type": "code",
   "execution_count": 29,
   "metadata": {},
   "outputs": [
    {
     "name": "stdout",
     "output_type": "stream",
     "text": [
      "Не нашел\n"
     ]
    }
   ],
   "source": [
    "# search ищет по всей строке, а match только в начале\n",
    "text = \"\"\"Что такое регулярные выражения и как их использовать? \n",
    "Говоря простым языком, регулярное выражение — это последовательность символов, используемая для поиска и замены текста в строке или файле. Как уже было упомянуто,\\\n",
    "их поддерживает множество языков общего назначения: Python, Perl, R.\n",
    "Так что изучение регулярных выражений рано или поздно пригодится.\"\"\"\n",
    "\n",
    "result = re.match(r'Python', text)\n",
    "result\n",
    "print('Нашел' if result else 'Не нашел')"
   ]
  },
  {
   "cell_type": "code",
   "execution_count": 28,
   "metadata": {},
   "outputs": [
    {
     "data": {
      "text/plain": [
       "<re.Match object; span=(0, 3), match='Что'>"
      ]
     },
     "execution_count": 28,
     "metadata": {},
     "output_type": "execute_result"
    }
   ],
   "source": [
    "re.match(r'Что', text)"
   ]
  },
  {
   "cell_type": "code",
   "execution_count": 31,
   "metadata": {},
   "outputs": [
    {
     "data": {
      "text/plain": [
       "'Python'"
      ]
     },
     "execution_count": 31,
     "metadata": {},
     "output_type": "execute_result"
    }
   ],
   "source": [
    "res = re.search(r'Python', text)\n",
    "res.start(), res.end()\n",
    "res.group()"
   ]
  },
  {
   "cell_type": "code",
   "execution_count": null,
   "metadata": {},
   "outputs": [],
   "source": []
  },
  {
   "cell_type": "code",
   "execution_count": 32,
   "metadata": {},
   "outputs": [],
   "source": [
    "# определим находится ли домен в зоне com\n",
    "domain = 'www.site.com'"
   ]
  },
  {
   "cell_type": "code",
   "execution_count": 33,
   "metadata": {},
   "outputs": [
    {
     "data": {
      "text/plain": [
       "['www.site.com']"
      ]
     },
     "execution_count": 33,
     "metadata": {},
     "output_type": "execute_result"
    }
   ],
   "source": [
    "re.findall('www.+com', domain)"
   ]
  },
  {
   "cell_type": "code",
   "execution_count": 34,
   "metadata": {},
   "outputs": [],
   "source": [
    "# поищем только в начале и конце строки\n",
    "history_comment = '20 век был более опасным, чем 19 век'"
   ]
  },
  {
   "cell_type": "code",
   "execution_count": 35,
   "metadata": {},
   "outputs": [
    {
     "data": {
      "text/plain": [
       "['20 век', '19 век']"
      ]
     },
     "execution_count": 35,
     "metadata": {},
     "output_type": "execute_result"
    }
   ],
   "source": [
    "re.findall(r'\\d{1,2}\\s\\век', history_comment)"
   ]
  },
  {
   "cell_type": "code",
   "execution_count": 36,
   "metadata": {},
   "outputs": [
    {
     "data": {
      "text/plain": [
       "['20 век']"
      ]
     },
     "execution_count": 36,
     "metadata": {},
     "output_type": "execute_result"
    }
   ],
   "source": [
    "re.findall(r'^\\d{1,2}\\s\\век', history_comment) # начало строки"
   ]
  },
  {
   "cell_type": "code",
   "execution_count": 37,
   "metadata": {},
   "outputs": [
    {
     "data": {
      "text/plain": [
       "['19 век']"
      ]
     },
     "execution_count": 37,
     "metadata": {},
     "output_type": "execute_result"
    }
   ],
   "source": [
    "re.findall(r'\\d{1,2}\\s\\век$', history_comment) # конец строки"
   ]
  },
  {
   "cell_type": "code",
   "execution_count": 38,
   "metadata": {},
   "outputs": [],
   "source": [
    "# экранирование. Разделим текст по точкам\n",
    "text = \"\"\"Что такое регулярные выражения и как их использовать? \n",
    "Говоря простым языком, регулярное выражение — это последовательность символов, используемая для поиска и замены текста в строке или файле. Как уже было упомянуто,\n",
    "их поддерживает множество языков общего назначения: Python, Perl, R.\n",
    "Так что изучение регулярных выражений рано или поздно пригодится.\"\"\""
   ]
  },
  {
   "cell_type": "code",
   "execution_count": 40,
   "metadata": {},
   "outputs": [
    {
     "data": {
      "text/plain": [
       "['Что такое регулярные выражения и как их использовать',\n",
       " '\\nГоворя простым языком, регулярное выражение — это последовательность символов, используемая для поиска и замены текста в строке или файле',\n",
       " 'Как уже было упомянуто,\\nих поддерживает множество языков общего назначения: Python, Perl, R',\n",
       " 'Так что изучение регулярных выражений рано или поздно пригодится.']"
      ]
     },
     "execution_count": 40,
     "metadata": {},
     "output_type": "execute_result"
    }
   ],
   "source": [
    "re.split(r'[.?!]\\s', text) # экранируем точку"
   ]
  },
  {
   "cell_type": "code",
   "execution_count": null,
   "metadata": {},
   "outputs": [],
   "source": [
    "re.split(r'\\.\\s', text) # экранируем точку"
   ]
  },
  {
   "cell_type": "code",
   "execution_count": 41,
   "metadata": {},
   "outputs": [
    {
     "data": {
      "text/plain": [
       "['ноутбук', 'компьютер']"
      ]
     },
     "execution_count": 41,
     "metadata": {},
     "output_type": "execute_result"
    }
   ],
   "source": [
    "# ИЛИ\n",
    "market_search = 'Что лучше: ноутбук или компьютер?'\n",
    "re.findall('ноутбук|компьютер', market_search)"
   ]
  },
  {
   "cell_type": "code",
   "execution_count": 42,
   "metadata": {},
   "outputs": [
    {
     "data": {
      "text/plain": [
       "['регулярные выражения', 'регулярное выражение', 'регулярных выражений']"
      ]
     },
     "execution_count": 42,
     "metadata": {},
     "output_type": "execute_result"
    }
   ],
   "source": [
    "# [] - найдем слово во всем склонениях\n",
    "text = \"\"\"Что такое регулярные выражения и как их использовать? \n",
    "Говоря простым языком, регулярное выражение — это последовательность символов, используемая для поиска и замены текста в строке или файле. Как уже было упомянуто,\n",
    "их поддерживает множество языков общего назначения: Python, Perl, R.\n",
    "Так что изучение регулярных выражений рано или поздно пригодится.\"\"\"\n",
    "pattern = 'регулярн[а-я]+ выражен[а-я]+'\n",
    "re.findall(pattern, text)"
   ]
  },
  {
   "cell_type": "code",
   "execution_count": 43,
   "metadata": {},
   "outputs": [],
   "source": [
    "websites = 'www.101.com  www.google.com'"
   ]
  },
  {
   "cell_type": "code",
   "execution_count": 44,
   "metadata": {},
   "outputs": [
    {
     "data": {
      "text/plain": [
       "['www.google.com']"
      ]
     },
     "execution_count": 44,
     "metadata": {},
     "output_type": "execute_result"
    }
   ],
   "source": [
    "re.findall(r'www[^0-9]+com', websites)"
   ]
  },
  {
   "cell_type": "code",
   "execution_count": 45,
   "metadata": {},
   "outputs": [],
   "source": [
    "# ПРАКТИКА. Разделим текст по запятой и по точкам\n",
    "tweet_23 = 'Какое замечательное место! Обязательно вернусть сюда снова. Всем советую!!!'"
   ]
  },
  {
   "cell_type": "code",
   "execution_count": 46,
   "metadata": {},
   "outputs": [
    {
     "data": {
      "text/plain": [
       "['Какое замечательное место',\n",
       " 'Обязательно вернусть сюда снова',\n",
       " 'Всем советую!!!']"
      ]
     },
     "execution_count": 46,
     "metadata": {},
     "output_type": "execute_result"
    }
   ],
   "source": [
    "re.split(r'[.?!]\\s', tweet_23)"
   ]
  },
  {
   "cell_type": "code",
   "execution_count": null,
   "metadata": {},
   "outputs": [],
   "source": [
    "# ПРАКТИКА. Напишите регулярку, которая отберет только валидный пароль по критериям:\n",
    "# - содержит латинские символы в верхнем и нижнем регистре;\n",
    "# - содержит числа;\n",
    "# - содержит символы из *, #, $, %, !, &, .;\n",
    "# - от 8 до 20 символов в длину;\n",
    "passwords = ['Apple34!rose', 'My87hou#4$', 'abc123']"
   ]
  },
  {
   "cell_type": "code",
   "execution_count": null,
   "metadata": {},
   "outputs": [],
   "source": []
  },
  {
   "cell_type": "code",
   "execution_count": null,
   "metadata": {},
   "outputs": [],
   "source": [
    "regex_pass = r''\n",
    "for password in passwords:\n",
    "    if re.match(regex_pass, password):\n",
    "        print('The password {} is a valid password'.format(password))\n",
    "    else:\n",
    "        print('The password {} is invalid'.format(password)) "
   ]
  },
  {
   "cell_type": "code",
   "execution_count": null,
   "metadata": {},
   "outputs": [],
   "source": []
  },
  {
   "cell_type": "code",
   "execution_count": 47,
   "metadata": {},
   "outputs": [
    {
     "data": {
      "text/plain": [
       "'Что такое regex и как их использовать? \\nГоворя простым языком, regex — это последовательность символов, используемая для поиска и замены текста в строке или файле. Как уже было упомянуто,\\nих поддерживает множество языков общего назначения: Python, Perl, R.\\nТак что изучение regex рано или поздно пригодится.'"
      ]
     },
     "execution_count": 47,
     "metadata": {},
     "output_type": "execute_result"
    }
   ],
   "source": [
    "# произведем замену на regex\n",
    "re.sub(r'регулярн[а-я]+ выражен[а-я]+', 'regex', text)"
   ]
  },
  {
   "cell_type": "code",
   "execution_count": null,
   "metadata": {},
   "outputs": [],
   "source": []
  },
  {
   "cell_type": "code",
   "execution_count": 2,
   "metadata": {},
   "outputs": [],
   "source": [
    "# скобочные группы\n",
    "# выделим группы символов из посадочного талона, где:\n",
    "# - первые 2 символа - это авиакомпания;\n",
    "# - 4 следующие символа - номер рейса;\n",
    "# - 3 следующих символа - аэропорт отправления;\n",
    "# - 3 следюущих - аэропорт прибытия;\n",
    "# - оставшиеся - дата рейса\n",
    "# Все буквы всегда в верхнем регистре"
   ]
  },
  {
   "cell_type": "code",
   "execution_count": 3,
   "metadata": {},
   "outputs": [],
   "source": [
    "flight = 'Boarding pass: LA4214 AER-CDB 06NOV'"
   ]
  },
  {
   "cell_type": "code",
   "execution_count": 48,
   "metadata": {},
   "outputs": [],
   "source": [
    "flight = 'Boarding pass: LA4214 AER-CDB 06NOV'\n",
    "regex_flight = r'([A-Z]{2})(\\d{4})\\s([A-Z]{3})-([A-Z]{3})\\s(\\d{2}[A-Z]{3})'"
   ]
  },
  {
   "cell_type": "code",
   "execution_count": 49,
   "metadata": {},
   "outputs": [],
   "source": [
    "flight_result = re.findall(regex_flight, flight)"
   ]
  },
  {
   "cell_type": "code",
   "execution_count": 50,
   "metadata": {},
   "outputs": [
    {
     "name": "stdout",
     "output_type": "stream",
     "text": [
      "[('LA', '4214', 'AER', 'CDB', '06NOV')]\n"
     ]
    }
   ],
   "source": [
    "print(flight_result)"
   ]
  },
  {
   "cell_type": "code",
   "execution_count": 51,
   "metadata": {},
   "outputs": [
    {
     "name": "stdout",
     "output_type": "stream",
     "text": [
      "4214\n"
     ]
    }
   ],
   "source": [
    "flight_match_result = re.search(regex_flight, flight)\n",
    "print(flight_match_result.group(2))"
   ]
  },
  {
   "cell_type": "code",
   "execution_count": 55,
   "metadata": {},
   "outputs": [
    {
     "data": {
      "text/plain": [
       "['777', '5534']"
      ]
     },
     "execution_count": 55,
     "metadata": {},
     "output_type": "execute_result"
    }
   ],
   "source": [
    "# квантификатор внутри группы и после нее  – это совершенно разные вещи!\n",
    "numbers = 'Мои счастливые числа 777 и 5534'\n",
    "re.findall(r'\\d+', numbers)\n",
    "# re.findall(r'(\\d)+', numbers)"
   ]
  },
  {
   "cell_type": "code",
   "execution_count": 54,
   "metadata": {},
   "outputs": [
    {
     "data": {
      "text/plain": [
       "['7', '4']"
      ]
     },
     "execution_count": 54,
     "metadata": {},
     "output_type": "execute_result"
    }
   ],
   "source": [
    "re.findall(r'(\\d)+', numbers)\n",
    "# так происходит, потому что эти цифры последовательно повторяются 1 и более раз"
   ]
  },
  {
   "cell_type": "code",
   "execution_count": 56,
   "metadata": {},
   "outputs": [
    {
     "data": {
      "text/plain": [
       "'30.08.1991'"
      ]
     },
     "execution_count": 56,
     "metadata": {},
     "output_type": "execute_result"
    }
   ],
   "source": [
    "# переведем даты к другому формату при помощи групп\n",
    "date = '08/30/1991'\n",
    "re.sub(r'(\\d\\d)/(\\d\\d)/(\\d{4})', r'\\2.\\1.\\3', date)"
   ]
  },
  {
   "cell_type": "code",
   "execution_count": 57,
   "metadata": {},
   "outputs": [],
   "source": [
    "# удалим повторяющиеся числа\n",
    "numbers = '44444 6666 8888'"
   ]
  },
  {
   "cell_type": "code",
   "execution_count": 58,
   "metadata": {},
   "outputs": [
    {
     "data": {
      "text/plain": [
       "'4 6 8'"
      ]
     },
     "execution_count": 58,
     "metadata": {},
     "output_type": "execute_result"
    }
   ],
   "source": [
    "re.sub(r'(\\d)+', r'\\1', numbers)"
   ]
  },
  {
   "cell_type": "code",
   "execution_count": null,
   "metadata": {},
   "outputs": [],
   "source": []
  },
  {
   "cell_type": "code",
   "execution_count": 59,
   "metadata": {},
   "outputs": [
    {
     "data": {
      "text/plain": [
       "['понравился']"
      ]
     },
     "execution_count": 59,
     "metadata": {},
     "output_type": "execute_result"
    }
   ],
   "source": [
    "#non-captureing groups\n",
    "# попробуем достать оценочные слова, которые стоят перед \"фильм, кино\"\n",
    "review = 'Мне очень понравился этот фильм! Понравилось еще расположение кинотеатра, очень удобное!!!'\n",
    "regex_negative = r'(понравился|понравилось).+(?:фильм|кино).+'\n",
    "negative_matches = re.findall(regex_negative, review)\n",
    "negative_matches"
   ]
  },
  {
   "cell_type": "code",
   "execution_count": 60,
   "metadata": {},
   "outputs": [
    {
     "data": {
      "text/plain": [
       "['33.txt']"
      ]
     },
     "execution_count": 60,
     "metadata": {},
     "output_type": "execute_result"
    }
   ],
   "source": [
    "# lookaround. Достанем имена только загруженных файлов\n",
    "report = 'файл 11.txt загружен, файл 22.txt загружен, файл 33.txt ошибка'\n",
    "find_downloaded = r'\\d+\\.txt(?=\\sзагружен)'\n",
    "files_error = r'\\d+\\.txt(?!\\sзагружен)'\n",
    "re.findall(find_downloaded, report)\n",
    "re.findall(files_error, report)"
   ]
  },
  {
   "cell_type": "code",
   "execution_count": 61,
   "metadata": {},
   "outputs": [],
   "source": [
    "# ПРАКТИКА. Получить только рублевые цены\n",
    "prices = 'RUB4.44, RUB10.88, EUR0.99, RUB99.99'"
   ]
  },
  {
   "cell_type": "code",
   "execution_count": 64,
   "metadata": {},
   "outputs": [],
   "source": [
    "find_prices = r'\\d+(?<=RUB)'"
   ]
  },
  {
   "cell_type": "code",
   "execution_count": 72,
   "metadata": {},
   "outputs": [],
   "source": [
    "find_prices = r'(?<=RUB)\\d+.\\d+'"
   ]
  },
  {
   "cell_type": "code",
   "execution_count": 73,
   "metadata": {},
   "outputs": [
    {
     "data": {
      "text/plain": [
       "['4.44', '10.88', '99.99']"
      ]
     },
     "execution_count": 73,
     "metadata": {},
     "output_type": "execute_result"
    }
   ],
   "source": [
    "re.findall(find_prices, prices)"
   ]
  },
  {
   "cell_type": "markdown",
   "metadata": {},
   "source": [
    "**Задание 1.**\n",
    "Напишите функцию, которая принимает на вход строку и проверяет является ли она валидным транспортным номером. Если да, то функция должна возвращать отдельно номер и регион."
   ]
  },
  {
   "cell_type": "code",
   "execution_count": 3,
   "metadata": {},
   "outputs": [],
   "source": [
    "import re"
   ]
  },
  {
   "cell_type": "code",
   "execution_count": 81,
   "metadata": {},
   "outputs": [
    {
     "data": {
      "text/plain": [
       "<re.Match object; span=(0, 9), match='А257ВА154'>"
      ]
     },
     "execution_count": 81,
     "metadata": {},
     "output_type": "execute_result"
    }
   ],
   "source": [
    "car_number = 'а257ва154, а589ну254, в745ов22, В689АС99, в236дж333, '\n",
    "find_car_number = r'([АВЕКМНОРСТУХ]\\d{3}(?<!000)[АВЕКМНОРСТУХ]{2})([17]\\d{2,3})'\n",
    "re.search(find_car_number, car_number.upper())"
   ]
  },
  {
   "cell_type": "code",
   "execution_count": 83,
   "metadata": {},
   "outputs": [
    {
     "data": {
      "text/plain": [
       "[('А257ВА', '154'), ('А589НУ', '254'), ('В745ОВ', '22'), ('В689АС', '99')]"
      ]
     },
     "execution_count": 83,
     "metadata": {},
     "output_type": "execute_result"
    }
   ],
   "source": [
    "car_number = 'а257ва154, а589ну254, в745Ов22, В689АС99, в236дж333, в256см3335'\n",
    "find_car_number = r'([АВЕКМНОРСТУХ]\\d{3}(?<!000)[АВЕКМНОРСТУХ]{2})([17]\\d{2}\\b|\\d{2}\\b)'\n",
    "re.findall(find_car_number, car_number.upper())"
   ]
  },
  {
   "cell_type": "code",
   "execution_count": 16,
   "metadata": {},
   "outputs": [],
   "source": [
    "# Решение:\n",
    "def check_car_number():\n",
    "    find_car_number = r'([АВЕКМНОРСТУХ]\\d{3}(?<!000)[АВЕКМНОРСТУХ]{2})([17]\\d{2}\\b|\\d{2}\\b)'\n",
    "    car_number = input('Введите автомобильный номер: ')\n",
    "    car_number = re.match(find_car_number, car_number.upper())\n",
    "    if car_number:\n",
    "        print(f'Номер - {car_number.group(1)}, регион - {car_number.group(2)}')\n",
    "    else:\n",
    "        print('Неправильные номер')"
   ]
  },
  {
   "cell_type": "code",
   "execution_count": 18,
   "metadata": {},
   "outputs": [
    {
     "name": "stdout",
     "output_type": "stream",
     "text": [
      "Введите автомобильный номер: р287от799\n",
      "Номер - Р287ОТ, регион - 799\n"
     ]
    }
   ],
   "source": [
    "check_car_number()"
   ]
  },
  {
   "cell_type": "markdown",
   "metadata": {},
   "source": [
    "**Задание 2.**\n",
    "Постарайтесь написать (в крайнем случае найти) самый полный шаблон для проверки e-mail адресов через регулярное выражение, которая проверяет e-mail адрес на валидность. Можно руководствоваться следующими минимальными требованиями:\n",
    "• адрес должен содержать специальный символ “@”, который отделяет имя пользователя почтовой системы от доменного имени;\n",
    "• адрес не должен содержать следующие символы: “пробел”, “,”, “:”, “;”, “!”, “#”, “%”, “*”, “(”, “)”, “=”, “+”, “{”, “}”, \" \" \", \" ’ \", \" / \", \" \\ \" и “|”;\n",
    "• адрес должен состоять только из латинских символов;\n",
    "• после символа “@” должна быть как минимум одна “.”;\n",
    "• после последней точки должно быть не менее 2-х и не более 4-х символов, причем наличие цифр не допускается;\n",
    "• между последней точкой и символом “@” должно быть не менее 2-х символов\n",
    "• слева от “@” должно быть не менее четырех символов"
   ]
  },
  {
   "cell_type": "code",
   "execution_count": 124,
   "metadata": {},
   "outputs": [
    {
     "data": {
      "text/plain": [
       "[('', '', '.fjf'),\n",
       " ('', '', '.ru'),\n",
       " ('', '', '.net'),\n",
       " ('', '.lipetsk', '.su'),\n",
       " ('', '.donetsk', '.ua')]"
      ]
     },
     "execution_count": 124,
     "metadata": {},
     "output_type": "execute_result"
    }
   ],
   "source": [
    "email = 'aalfal@lfalfjakl.fjf, 7d7d7d!!!@svjkskld.svsdv.sdv, holl@sochi.ru, tangram@mediaone.net, ab@ref.stinol.lipetsk.su, bond@isd.anet.donetsk.ua'\n",
    "find_email = r'[_A-Za-z0-9-+]+(\\.[_A-Za-z0-9-]+)*@[A-Za-z0-9-]{2,}(\\.[A-Za-z0-9]+)*(\\.[A-Za-z]{2,4})'\n",
    "re.findall(find_email, email)"
   ]
  },
  {
   "cell_type": "code",
   "execution_count": 23,
   "metadata": {},
   "outputs": [
    {
     "name": "stdout",
     "output_type": "stream",
     "text": [
      "<re.Match object; span=(0, 20), match='aalfal@lfalfjakl.fjf'>\n",
      "None\n",
      "<re.Match object; span=(0, 13), match='holl@sochi.ru'>\n",
      "<re.Match object; span=(0, 20), match='tangram@mediaone.net'>\n",
      "<re.Match object; span=(0, 24), match='ab@ref.stinol.lipetsk.su'>\n",
      "<re.Match object; span=(0, 24), match='bond@isd.anet.donetsk.ua'>\n"
     ]
    }
   ],
   "source": [
    "email = ['aalfal@lfalfjakl.fjf', '7d7d7d!!!@svjkskld.svsdv.sdv', 'holl@sochi.ru', 'tangram@mediaone.net', 'ab@ref.stinol.lipetsk.su', 'bond@isd.anet.donetsk.ua']\n",
    "find_email = r'[_A-Za-z0-9-+]+(\\.[_A-Za-z0-9-]+)*@[A-Za-z0-9-]{2,}(\\.[A-Za-z0-9]+)*(\\.[A-Za-z]{2,4})'\n",
    "for mail in email:\n",
    "    print(re.match(find_email, mail))"
   ]
  },
  {
   "cell_type": "markdown",
   "metadata": {},
   "source": [
    "**Задание 3.**\n",
    "Напишите функцию, которая будет удалять все последовательные повторы слов из заданной строки при помощи регулярных выражений."
   ]
  },
  {
   "cell_type": "code",
   "execution_count": 123,
   "metadata": {},
   "outputs": [
    {
     "name": "stdout",
     "output_type": "stream",
     "text": [
      "собака Конь\n"
     ]
    }
   ],
   "source": [
    "# Решение\n",
    "words = 'собака Собака   собака Конь конь'\n",
    "find_email = r'\\b([^\\W\\d_]+)(\\s+\\1)+\\b'\n",
    "word = r'\\1'\n",
    "#print(re.sub(r'\\b([^\\W\\d_]+)(\\s+\\1)+\\b', r'\\1', re.sub(r'\\W+ ','', words).strip(), flags=re.I))\n",
    "print(re.sub(find_email, word, words, flags=re.I))"
   ]
  },
  {
   "cell_type": "markdown",
   "metadata": {},
   "source": [
    "**Задание 4.**\n",
    "Напишите функцию, которая будет проверять номер сотового телефона на валидность, если он валиден, то переводить его в формат:\n",
    "+7(xxx)-xxx-xx-xx\n",
    "Постарайтесь предусмотреть как можно больше адекватных форматов изначального ввода номера. Примеры валидных форматов:\n",
    "• +7 955 555-55-55;\n",
    "• 9555555555;\n",
    "• 8(955)555-55-55;\n",
    "• +7 955 555 55 55;\n",
    "• 7(955) 555-55-55;\n",
    "• +7 955+555+55+55."
   ]
  },
  {
   "cell_type": "code",
   "execution_count": 25,
   "metadata": {},
   "outputs": [],
   "source": [
    "tel_num = ['+79261234567', '+7 955 555-55-55', '+7 955+555+55+55', '7(955) 555-55-55','89261234567', '79261234567', '+7 926 123 45 67', '8(926)123-45-67', '9261234567', '79261234567', '(495)1234567', '(495) 123 45 67', '89261234567', '8-926-123-45-67', '8 927 1234 234']"
   ]
  },
  {
   "cell_type": "code",
   "execution_count": null,
   "metadata": {},
   "outputs": [],
   "source": [
    "find_tel_num = r'((8|\\+7)[\\-+ ]?)?(\\(?\\d{3}\\)?[\\-+ ]?)?[\\d\\-+ ]{7,10}'\n",
    "for num in tel_num:\n",
    "    print(num)\n",
    "#     print(re.search(find_tel_num, num))\n",
    "    print(re.sub(find_tel_num, num))"
   ]
  },
  {
   "cell_type": "code",
   "execution_count": null,
   "metadata": {},
   "outputs": [],
   "source": [
    "find_tel_num = r'(8|\\+{0,1}7)?[()\\-+ ]?[()\\-+ ]?(\\d{3})?[()\\-+ ]?[()\\-+ ]?(\\d{3})?[()\\-+ ]?(\\d)?[()\\-+ ]?(\\d)?[()\\-+ ]?(\\d)?[()\\-+ ]?(\\d)'\n",
    "for num in tel_num:\n",
    "    num = re.search(find_tel_num, num)\n",
    "#     num = re.sub(find_tel_num, r'+7\\(\\2\\)-\\3'-\\4\\5-\\6\\7, num)\n",
    "    print(num, '/', num.group(1), num.group(2), num.group(3), num.group(4), num.group(5), num.group(6), num.group(7))\n",
    "#     print(re.search(find_tel_num, num))\n",
    "#     print(re.sub(find_tel_num, num))"
   ]
  },
  {
   "cell_type": "code",
   "execution_count": 26,
   "metadata": {},
   "outputs": [
    {
     "name": "stdout",
     "output_type": "stream",
     "text": [
      "+7(926)-123-45-67\n",
      "+7(955)-555-55-55\n",
      "+7(955)-555-55-55\n",
      "+7(955)-555-55-55\n",
      "+7(926)-123-45-67\n",
      "+7(926)-123-45-67\n",
      "+7(926)-123-45-67\n",
      "+7(926)-123-45-67\n",
      "+7(926)-123-45-67\n",
      "+7(926)-123-45-67\n",
      "+7(495)-123-45-67\n",
      "+7(495)-123-45-67\n",
      "+7(926)-123-45-67\n",
      "+7(926)-123-45-67\n",
      "+7(927)-123-42-34\n"
     ]
    }
   ],
   "source": [
    "find_tel_num = r'(8|\\+{0,1}7)?[()\\-+ ]?[()\\-+ ]?(\\d{3})[()\\-+ ]?[()\\-+ ]?(\\d{3})[()\\-+ ]?(\\d)[()\\-+ ]?(\\d)[()\\-+ ]?(\\d)[()\\-+ ]?(\\d)'\n",
    "for num in tel_num:\n",
    "    num = re.sub(find_tel_num, r'+7(\\2)-\\3-\\4\\5-\\6\\7', num)\n",
    "    print(num)"
   ]
  },
  {
   "cell_type": "code",
   "execution_count": 27,
   "metadata": {},
   "outputs": [],
   "source": [
    "#Решение\n",
    "def check_tel_num():\n",
    "    tel_num = input('Введите телефонный номер для проверки: ')\n",
    "    find_tel_num = r'(8|\\+{0,1}7)?[()\\-+ ]?[()\\-+ ]?(\\d{3})[()\\-+ ]?[()\\-+ ]?(\\d{3})[()\\-+ ]?(\\d)[()\\-+ ]?(\\d)[()\\-+ ]?(\\d)[()\\-+ ]?(\\d)$'\n",
    "    if re.match(find_tel_num, tel_num):\n",
    "        num = re.sub(find_tel_num, r'+7(\\2)-\\3-\\4\\5-\\6\\7', tel_num)\n",
    "        print(num)\n",
    "    else:\n",
    "        print('Неверный формат номера')"
   ]
  },
  {
   "cell_type": "code",
   "execution_count": 29,
   "metadata": {},
   "outputs": [
    {
     "name": "stdout",
     "output_type": "stream",
     "text": [
      "Введите телефонный номер для проверки: 88009090009\n",
      "+7(800)-909-00-09\n"
     ]
    }
   ],
   "source": [
    "check_tel_num()"
   ]
  },
  {
   "cell_type": "code",
   "execution_count": 30,
   "metadata": {},
   "outputs": [
    {
     "name": "stdout",
     "output_type": "stream",
     "text": [
      "Введите телефонный номер для проверки: 98789890\n",
      "Неверный формат номера\n"
     ]
    }
   ],
   "source": [
    "check_tel_num()"
   ]
  },
  {
   "cell_type": "code",
   "execution_count": 32,
   "metadata": {},
   "outputs": [
    {
     "name": "stdout",
     "output_type": "stream",
     "text": [
      "Введите телефонный номер для проверки: 7+800+777+77+77\n",
      "+7(800)-777-77-77\n"
     ]
    }
   ],
   "source": [
    "check_tel_num()"
   ]
  },
  {
   "cell_type": "code",
   "execution_count": 33,
   "metadata": {},
   "outputs": [
    {
     "name": "stdout",
     "output_type": "stream",
     "text": [
      "Введите телефонный номер для проверки: 98009996776\n",
      "Неверный формат номера\n"
     ]
    }
   ],
   "source": [
    "check_tel_num()"
   ]
  },
  {
   "cell_type": "code",
   "execution_count": null,
   "metadata": {},
   "outputs": [],
   "source": []
  }
 ],
 "metadata": {
  "kernelspec": {
   "display_name": "Python 3",
   "language": "python",
   "name": "python3"
  },
  "language_info": {
   "codemirror_mode": {
    "name": "ipython",
    "version": 3
   },
   "file_extension": ".py",
   "mimetype": "text/x-python",
   "name": "python",
   "nbconvert_exporter": "python",
   "pygments_lexer": "ipython3",
   "version": "3.7.4"
  }
 },
 "nbformat": 4,
 "nbformat_minor": 2
}
