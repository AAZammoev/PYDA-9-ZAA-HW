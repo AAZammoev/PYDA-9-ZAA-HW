{
 "cells": [
  {
   "cell_type": "markdown",
   "metadata": {},
   "source": [
    "**Задание 1**. Дан список с визитами по городам и странам. \n",
    "Напишите код, который возвращает отфильтрованный список geo_logs, содержащий только визиты из России."
   ]
  },
  {
   "cell_type": "code",
   "execution_count": 101,
   "metadata": {},
   "outputs": [],
   "source": [
    "geo_logs = [\n",
    "    {'visit1': ['Москва', 'Россия']},\n",
    "    {'visit2': ['Дели', 'Индия']},\n",
    "    {'visit3': ['Владимир', 'Россия']},\n",
    "    {'visit4': ['Лиссабон', 'Португалия']},\n",
    "    {'visit5': ['Париж', 'Франция']},\n",
    "    {'visit6': ['Лиссабон', 'Португалия']},\n",
    "    {'visit7': ['Тула', 'Россия']},\n",
    "    {'visit8': ['Тула', 'Россия']},\n",
    "    {'visit9': ['Курск', 'Россия']},\n",
    "    {'visit10': ['Архангельск', 'Россия']}\n",
    "]"
   ]
  },
  {
   "cell_type": "code",
   "execution_count": 102,
   "metadata": {},
   "outputs": [
    {
     "name": "stdout",
     "output_type": "stream",
     "text": [
      "[{'visit1': ['Москва', 'Россия']}, {'visit3': ['Владимир', 'Россия']}, {'visit7': ['Тула', 'Россия']}, {'visit8': ['Тула', 'Россия']}, {'visit9': ['Курск', 'Россия']}, {'visit10': ['Архангельск', 'Россия']}]\n"
     ]
    }
   ],
   "source": [
    "# вариант 1, кривой\n",
    "geo_logs_filtr = []\n",
    "country = 'Россия'\n",
    "for i, logs in enumerate(geo_logs):\n",
    "    key = 'visit' + str(i+1)\n",
    "    if country in logs[key]:\n",
    "        geo_logs_filtr.append(logs)\n",
    "print(geo_logs_filtr)"
   ]
  },
  {
   "cell_type": "code",
   "execution_count": 103,
   "metadata": {},
   "outputs": [
    {
     "name": "stdout",
     "output_type": "stream",
     "text": [
      "[{'visit1': ['Москва', 'Россия']}, {'visit3': ['Владимир', 'Россия']}, {'visit7': ['Тула', 'Россия']}, {'visit8': ['Тула', 'Россия']}, {'visit9': ['Курск', 'Россия']}, {'visit10': ['Архангельск', 'Россия']}]\n"
     ]
    }
   ],
   "source": [
    "# вариант 2, прямой\n",
    "geo_logs_filtr = []\n",
    "country = 'Россия'\n",
    "for logs in geo_logs:\n",
    "    if country in list(logs.values())[0]:\n",
    "        geo_logs_filtr.append(logs)\n",
    "print(geo_logs_filtr)"
   ]
  },
  {
   "cell_type": "markdown",
   "metadata": {},
   "source": [
    "**Задание 2**. Выведите на экран все уникальные гео-ID из значений словаря ids. Т. е. список вида [213, 15, 54, 119, 98, 35]"
   ]
  },
  {
   "cell_type": "code",
   "execution_count": 104,
   "metadata": {},
   "outputs": [],
   "source": [
    "ids = {'user1': [213, 213, 213, 15, 213], \n",
    "       'user2': [54, 54, 119, 119, 119], \n",
    "       'user3': [213, 98, 98, 35]}"
   ]
  },
  {
   "cell_type": "code",
   "execution_count": 105,
   "metadata": {},
   "outputs": [
    {
     "name": "stdout",
     "output_type": "stream",
     "text": [
      "[98, 35, 15, 213, 54, 119]\n"
     ]
    }
   ],
   "source": [
    "list_geo_id = []\n",
    "for user in ids.values():\n",
    "    list_geo_id = list_geo_id + user\n",
    "print(list(set(list_geo_id)))"
   ]
  },
  {
   "cell_type": "markdown",
   "metadata": {},
   "source": [
    "**Задание 3**. Дан список поисковых запросов. Получить распределение количества слов в них. \n",
    "Т. е. поисковых запросов из одного - слова 5%, из двух - 7%, из трех - 3% и т.д."
   ]
  },
  {
   "cell_type": "code",
   "execution_count": 60,
   "metadata": {},
   "outputs": [],
   "source": [
    "queries = [\n",
    "    'смотреть сериалы онлайн',\n",
    "    'новости спорта',\n",
    "    'афиша кино',\n",
    "    'курс доллара',\n",
    "    'сериалы этим летом',\n",
    "    'курс по питону',\n",
    "    'сериалы про спорт',\n",
    "]\n"
   ]
  },
  {
   "cell_type": "code",
   "execution_count": 87,
   "metadata": {},
   "outputs": [
    {
     "name": "stdout",
     "output_type": "stream",
     "text": [
      "Поисковых запросов из 3 слов - 57.1 %\n",
      "Поисковых запросов из 2 слов - 42.9 %\n"
     ]
    }
   ],
   "source": [
    "# решил в лоб\n",
    "word_dict = {}\n",
    "for line in queries:\n",
    "    if len(line.split()) not in word_dict:\n",
    "        word_dict[len(line.split())] = 1  \n",
    "    else:\n",
    "        word_dict[len(line.split())] += 1\n",
    "for conclusion in word_dict:\n",
    "    print(f'Поисковых запросов из {conclusion} слов - {round((word_dict[conclusion]/sum(x for x in word_dict.values()) * 100), 1)} %')"
   ]
  },
  {
   "cell_type": "code",
   "execution_count": 139,
   "metadata": {},
   "outputs": [
    {
     "name": "stdout",
     "output_type": "stream",
     "text": [
      "Поисковых запросов из 2 слов - 42.9 %\n",
      "Поисковых запросов из 3 слов - 57.1 %\n"
     ]
    }
   ],
   "source": [
    "# упорядочил вывод по количеству слов в запросе\n",
    "word_dict = {}\n",
    "for line in queries:\n",
    "    if len(line.split()) not in word_dict:\n",
    "        word_dict[len(line.split())] = 1  \n",
    "    else:\n",
    "        word_dict[len(line.split())] += 1\n",
    "list_keys = list(word_dict.keys())\n",
    "list_keys.sort()\n",
    "for concl in list_keys:\n",
    "    print(f'Поисковых запросов из {concl} слов - {round((word_dict[concl]/sum(x for x in word_dict.values()) * 100), 1)} %')"
   ]
  },
  {
   "cell_type": "markdown",
   "metadata": {},
   "source": [
    "**Задание 4**. Дана статистика рекламных каналов по объемам продаж. Напишите скрипт, который возвращает название канала с максимальным объемом.\n",
    "Т. е. в данном примере скрипт должен возвращать 'yandex'."
   ]
  },
  {
   "cell_type": "code",
   "execution_count": 96,
   "metadata": {},
   "outputs": [],
   "source": [
    "stats = {'facebook': 55, 'yandex': 120, 'vk': 115, 'google': 99, 'email': 42, 'ok': 98}"
   ]
  },
  {
   "cell_type": "code",
   "execution_count": 100,
   "metadata": {},
   "outputs": [
    {
     "name": "stdout",
     "output_type": "stream",
     "text": [
      "yandex\n"
     ]
    }
   ],
   "source": [
    "for company in stats:\n",
    "        if stats[company] == max(company for company in stats.values()): \n",
    "            print(company)"
   ]
  },
  {
   "cell_type": "markdown",
   "metadata": {},
   "source": [
    "**Задание 5**. Напишите код для преобразования произвольного списка вида ['2018-01-01', 'yandex', 'cpc', 100] (он может быть любой длины) в словарь {'2018-01-01': {'yandex': {'cpc': 100}}}"
   ]
  },
  {
   "cell_type": "code",
   "execution_count": 141,
   "metadata": {},
   "outputs": [],
   "source": [
    "conv_list = ['2018-01-01', 'yandex', 'cpc', 100, 234, 434, 566, 423, 'fsf', 'bed']"
   ]
  },
  {
   "cell_type": "code",
   "execution_count": 144,
   "metadata": {},
   "outputs": [
    {
     "name": "stdout",
     "output_type": "stream",
     "text": [
      "{'2018-01-01': {'yandex': {'cpc': {100: {234: {434: {566: {423: {'fsf': 'bed'}}}}}}}}}\n"
     ]
    }
   ],
   "source": [
    "# подозреваю что код кривой, но работает на любой длине списка\n",
    "conv_list = ['2018-01-01', 'yandex', 'cpc', 100, 234, 434, 566, 423, 'fsf', 'bed']\n",
    "conv_list.reverse()\n",
    "conv_dict = {}\n",
    "conv_dict[conv_list[1]] = conv_list[0]\n",
    "len_list = (len(conv_list)-2)\n",
    "for i in range(len_list):\n",
    "    conv_dict = {conv_list[(i+2)]:conv_dict}\n",
    "print(conv_dict)"
   ]
  },
  {
   "cell_type": "code",
   "execution_count": 148,
   "metadata": {},
   "outputs": [
    {
     "name": "stdout",
     "output_type": "stream",
     "text": [
      "{'2018-01-01': {'yandex': {'cpc': {100: {234: {434: {566: {423: {'fsf': 'bed'}}}}}}}}}\n"
     ]
    }
   ],
   "source": [
    "# подсмотрел идею в слаке и переписал через цикл while\n",
    "conv_list = ['2018-01-01', 'yandex', 'cpc', 100, 234, 434, 566, 423, 'fsf', 'bed']\n",
    "i = -1\n",
    "var = conv_list[i]\n",
    "while i > (-len(conv_list)):\n",
    "    i -= 1\n",
    "    var = {conv_list[i]: var}\n",
    "print(var)"
   ]
  },
  {
   "cell_type": "code",
   "execution_count": null,
   "metadata": {},
   "outputs": [],
   "source": []
  }
 ],
 "metadata": {
  "kernelspec": {
   "display_name": "Python 3",
   "language": "python",
   "name": "python3"
  },
  "language_info": {
   "codemirror_mode": {
    "name": "ipython",
    "version": 3
   },
   "file_extension": ".py",
   "mimetype": "text/x-python",
   "name": "python",
   "nbconvert_exporter": "python",
   "pygments_lexer": "ipython3",
   "version": "3.7.4"
  }
 },
 "nbformat": 4,
 "nbformat_minor": 2
}
